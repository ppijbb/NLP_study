{
  "nbformat": 4,
  "nbformat_minor": 0,
  "metadata": {
    "kernelspec": {
      "name": "python3",
      "display_name": "Python 3"
    },
    "language_info": {
      "codemirror_mode": {
        "name": "ipython",
        "version": 3
      },
      "file_extension": ".py",
      "mimetype": "text/x-python",
      "name": "python",
      "nbconvert_exporter": "python",
      "pygments_lexer": "ipython3",
      "version": "3.6.8"
    },
    "colab": {
      "name": "basic of python for text analysis.ipynb",
      "provenance": [],
      "include_colab_link": true
    },
    "accelerator": "GPU"
  },
  "cells": [
    {
      "cell_type": "markdown",
      "metadata": {
        "id": "view-in-github",
        "colab_type": "text"
      },
      "source": [
        "<a href=\"https://colab.research.google.com/github/ppijbb/NLP_study/blob/main/basic_of_python_for_text_analysis.ipynb\" target=\"_parent\"><img src=\"https://colab.research.google.com/assets/colab-badge.svg\" alt=\"Open In Colab\"/></a>"
      ]
    },
    {
      "cell_type": "markdown",
      "metadata": {
        "id": "RYLIFb8NyDT8"
      },
      "source": [
        "# 가천대학교 GBridge\n",
        "## 머신러닝과 언어처리\n",
        "\n",
        "2019년 10월 25일 실습\n",
        "\n",
        "참고자료: Automate the boring stuff with python"
      ]
    },
    {
      "cell_type": "markdown",
      "metadata": {
        "id": "pm3txRQqyDT9"
      },
      "source": [
        "\n",
        "\n",
        "* 문자열 저장 및 출력\n",
        "\n"
      ]
    },
    {
      "cell_type": "code",
      "metadata": {
        "id": "_cJvnVeqyDT-",
        "colab": {
          "base_uri": "https://localhost:8080/",
          "height": 35
        },
        "outputId": "ee4cc6c6-3c96-4576-b6a7-94b58889e8f1"
      },
      "source": [
        "a = '안녕하세요?'\n",
        "print(a)"
      ],
      "execution_count": null,
      "outputs": [
        {
          "output_type": "stream",
          "text": [
            "안녕하세요?\n"
          ],
          "name": "stdout"
        }
      ]
    },
    {
      "cell_type": "code",
      "metadata": {
        "id": "Gh4XWqlzyDUB",
        "colab": {
          "base_uri": "https://localhost:8080/",
          "height": 35
        },
        "outputId": "2fa1b23b-d5da-448b-ecd4-e337d318b6b1"
      },
      "source": [
        "b = \"반갑습니다.\"\n",
        "print(b)"
      ],
      "execution_count": null,
      "outputs": [
        {
          "output_type": "stream",
          "text": [
            "반갑습니다.\n"
          ],
          "name": "stdout"
        }
      ]
    },
    {
      "cell_type": "code",
      "metadata": {
        "id": "HLE9_HZoyDUF",
        "colab": {
          "base_uri": "https://localhost:8080/",
          "height": 35
        },
        "outputId": "6e7d3b53-e8cc-4e73-cdae-60191238b949"
      },
      "source": [
        "c = \"That is Alice's cat\"\n",
        "print(c)"
      ],
      "execution_count": null,
      "outputs": [
        {
          "output_type": "stream",
          "text": [
            "That is Alice's cat\n"
          ],
          "name": "stdout"
        }
      ]
    },
    {
      "cell_type": "markdown",
      "metadata": {
        "id": "-vrnDYWAyDUI"
      },
      "source": [
        "\n",
        "\n",
        "* Escape character\n",
        "   - \\\\'\n",
        "   - \\\\\"\n",
        "   - \\\\t\n",
        "   - \\\\n\n",
        "   - \\\\\\"
      ]
    },
    {
      "cell_type": "code",
      "metadata": {
        "scrolled": true,
        "id": "5haaKhINyDUI",
        "colab": {
          "base_uri": "https://localhost:8080/",
          "height": 35
        },
        "outputId": "9f57f164-c878-414c-d0c3-e4a290cf58c0"
      },
      "source": [
        "d = 'That is Alice\\'s cat'\n",
        "print(d)"
      ],
      "execution_count": null,
      "outputs": [
        {
          "output_type": "stream",
          "text": [
            "That is Alice's cat\n"
          ],
          "name": "stdout"
        }
      ]
    },
    {
      "cell_type": "code",
      "metadata": {
        "id": "opRgGEqcyDUO",
        "colab": {
          "base_uri": "https://localhost:8080/",
          "height": 71
        },
        "outputId": "1e1172e0-279c-41e4-e52e-a13659645408"
      },
      "source": [
        "print(\"Hello there!\\nHow are you?\\nI\\'m doing fine.\")"
      ],
      "execution_count": null,
      "outputs": [
        {
          "output_type": "stream",
          "text": [
            "Hello there!\n",
            "How are you?\n",
            "I'm doing fine.\n"
          ],
          "name": "stdout"
        }
      ]
    },
    {
      "cell_type": "code",
      "metadata": {
        "id": "GaH_c9UpyDUZ",
        "colab": {
          "base_uri": "https://localhost:8080/",
          "height": 35
        },
        "outputId": "5142115d-0905-4507-e4d4-421541a8994f"
      },
      "source": [
        "print(r\"Hello there!\\nHow are you?\\nI\\'m doing fine.\")"
      ],
      "execution_count": null,
      "outputs": [
        {
          "output_type": "stream",
          "text": [
            "Hello there!\\nHow are you?\\nI\\'m doing fine.\n"
          ],
          "name": "stdout"
        }
      ]
    },
    {
      "cell_type": "code",
      "metadata": {
        "id": "K3g8oaosyDUe",
        "colab": {
          "base_uri": "https://localhost:8080/",
          "height": 125
        },
        "outputId": "b69b959c-0c50-45d6-ee2a-06d5939139f9"
      },
      "source": [
        "print('''Dear Alice,\n",
        "\n",
        "Eve's cat has been arrested for catnapping, cat burglary, and extortion.\n",
        "\n",
        "Sincerely,\n",
        "Bob''')"
      ],
      "execution_count": null,
      "outputs": [
        {
          "output_type": "stream",
          "text": [
            "Dear Alice,\n",
            "\n",
            "Eve's cat has been arrested for catnapping, cat burglary, and extortion.\n",
            "\n",
            "Sincerely,\n",
            "Bob\n"
          ],
          "name": "stdout"
        }
      ]
    },
    {
      "cell_type": "code",
      "metadata": {
        "id": "39kDJmbtyDUh",
        "colab": {
          "base_uri": "https://localhost:8080/",
          "height": 125
        },
        "outputId": "634d0d39-29fb-4721-cd60-d9e921cfef19"
      },
      "source": [
        "print('Dear Alice,\\n\\nEve\\'s cat has been arrested for catnapping, cat burglary, and extortion.\\n\\nSincerely,\\nBob')"
      ],
      "execution_count": null,
      "outputs": [
        {
          "output_type": "stream",
          "text": [
            "Dear Alice,\n",
            "\n",
            "Eve's cat has been arrested for catnapping, cat burglary, and extortion.\n",
            "\n",
            "Sincerely,\n",
            "Bob\n"
          ],
          "name": "stdout"
        }
      ]
    },
    {
      "cell_type": "markdown",
      "metadata": {
        "id": "aqAVJ9v0yDUq"
      },
      "source": [
        "\n",
        "* 문자열의 인덱싱과 슬라이싱\n"
      ]
    },
    {
      "cell_type": "code",
      "metadata": {
        "id": "05B_jzhtyDUs"
      },
      "source": [
        "spam = 'Hello World!'"
      ],
      "execution_count": null,
      "outputs": []
    },
    {
      "cell_type": "code",
      "metadata": {
        "id": "VAXr3cSByDUv",
        "colab": {
          "base_uri": "https://localhost:8080/",
          "height": 35
        },
        "outputId": "f8ed52ba-9a55-4a24-f3bc-0fad5a37753f"
      },
      "source": [
        "spam[0]"
      ],
      "execution_count": null,
      "outputs": [
        {
          "output_type": "execute_result",
          "data": {
            "text/plain": [
              "'H'"
            ]
          },
          "metadata": {
            "tags": []
          },
          "execution_count": 10
        }
      ]
    },
    {
      "cell_type": "code",
      "metadata": {
        "id": "R-H-ssozyDU0",
        "colab": {
          "base_uri": "https://localhost:8080/",
          "height": 35
        },
        "outputId": "b46c93ab-b8db-49d6-e0ec-cdb1c63046a8"
      },
      "source": [
        "spam[4]"
      ],
      "execution_count": null,
      "outputs": [
        {
          "output_type": "execute_result",
          "data": {
            "text/plain": [
              "'o'"
            ]
          },
          "metadata": {
            "tags": []
          },
          "execution_count": 11
        }
      ]
    },
    {
      "cell_type": "code",
      "metadata": {
        "id": "Q7B-fiHCyDU3",
        "colab": {
          "base_uri": "https://localhost:8080/",
          "height": 35
        },
        "outputId": "6161716b-32f9-4658-a95c-cf322f7f55ca"
      },
      "source": [
        "spam[-1]"
      ],
      "execution_count": null,
      "outputs": [
        {
          "output_type": "execute_result",
          "data": {
            "text/plain": [
              "'!'"
            ]
          },
          "metadata": {
            "tags": []
          },
          "execution_count": 12
        }
      ]
    },
    {
      "cell_type": "code",
      "metadata": {
        "id": "v7yhuORdyDU6",
        "colab": {
          "base_uri": "https://localhost:8080/",
          "height": 35
        },
        "outputId": "2e2c4706-d3df-4438-a096-d19c19171aae"
      },
      "source": [
        "spam[0:5]"
      ],
      "execution_count": null,
      "outputs": [
        {
          "output_type": "execute_result",
          "data": {
            "text/plain": [
              "'Hello'"
            ]
          },
          "metadata": {
            "tags": []
          },
          "execution_count": 13
        }
      ]
    },
    {
      "cell_type": "code",
      "metadata": {
        "id": "FV4elFowyDU9",
        "colab": {
          "base_uri": "https://localhost:8080/",
          "height": 35
        },
        "outputId": "8de238c9-1891-4f40-d7e5-08869ad89335"
      },
      "source": [
        "spam[:5]"
      ],
      "execution_count": null,
      "outputs": [
        {
          "output_type": "execute_result",
          "data": {
            "text/plain": [
              "'Hello'"
            ]
          },
          "metadata": {
            "tags": []
          },
          "execution_count": 14
        }
      ]
    },
    {
      "cell_type": "code",
      "metadata": {
        "id": "PRfLGaGjyDU-",
        "colab": {
          "base_uri": "https://localhost:8080/",
          "height": 35
        },
        "outputId": "c05bb5cc-e448-45f8-888c-040e0b06fe05"
      },
      "source": [
        "spam[6:]"
      ],
      "execution_count": null,
      "outputs": [
        {
          "output_type": "execute_result",
          "data": {
            "text/plain": [
              "'World!'"
            ]
          },
          "metadata": {
            "tags": []
          },
          "execution_count": 15
        }
      ]
    },
    {
      "cell_type": "markdown",
      "metadata": {
        "id": "F0wrK8QGyDVA"
      },
      "source": [
        "\n",
        "* Concatenate\n"
      ]
    },
    {
      "cell_type": "code",
      "metadata": {
        "id": "wT3IWoDNyDVB",
        "colab": {
          "base_uri": "https://localhost:8080/",
          "height": 35
        },
        "outputId": "ff8f1048-6079-45d9-aa3d-de15cdf7d033"
      },
      "source": [
        "'hello' + 'world!'"
      ],
      "execution_count": null,
      "outputs": [
        {
          "output_type": "execute_result",
          "data": {
            "text/plain": [
              "'helloworld!'"
            ]
          },
          "metadata": {
            "tags": []
          },
          "execution_count": 16
        }
      ]
    },
    {
      "cell_type": "markdown",
      "metadata": {
        "id": "RljNkLbyyDVE"
      },
      "source": [
        "\n",
        "* Multiply\n"
      ]
    },
    {
      "cell_type": "code",
      "metadata": {
        "id": "cseqbLqByDVH",
        "colab": {
          "base_uri": "https://localhost:8080/",
          "height": 35
        },
        "outputId": "6338af50-8493-4b2a-979a-c5917e2dd561"
      },
      "source": [
        "'hello' * 5"
      ],
      "execution_count": null,
      "outputs": [
        {
          "output_type": "execute_result",
          "data": {
            "text/plain": [
              "'hellohellohellohellohello'"
            ]
          },
          "metadata": {
            "tags": []
          },
          "execution_count": 17
        }
      ]
    },
    {
      "cell_type": "markdown",
      "metadata": {
        "id": "_cQs5CtoyDVL"
      },
      "source": [
        "\n",
        "* in 연산자"
      ]
    },
    {
      "cell_type": "code",
      "metadata": {
        "id": "wNohbzQSyDVN",
        "colab": {
          "base_uri": "https://localhost:8080/",
          "height": 35
        },
        "outputId": "9b562a88-d8d0-4ddf-9f58-26232854bf64"
      },
      "source": [
        "'Hello' in spam"
      ],
      "execution_count": null,
      "outputs": [
        {
          "output_type": "execute_result",
          "data": {
            "text/plain": [
              "True"
            ]
          },
          "metadata": {
            "tags": []
          },
          "execution_count": 18
        }
      ]
    },
    {
      "cell_type": "code",
      "metadata": {
        "id": "h0CyQ2DFyDVP",
        "colab": {
          "base_uri": "https://localhost:8080/",
          "height": 35
        },
        "outputId": "cfc46892-d6a0-4d49-bf74-089a7b1e9ca9"
      },
      "source": [
        "'HELLO' in spam"
      ],
      "execution_count": null,
      "outputs": [
        {
          "output_type": "execute_result",
          "data": {
            "text/plain": [
              "False"
            ]
          },
          "metadata": {
            "tags": []
          },
          "execution_count": 19
        }
      ]
    },
    {
      "cell_type": "code",
      "metadata": {
        "id": "zWoqRBUxyDVS",
        "colab": {
          "base_uri": "https://localhost:8080/",
          "height": 35
        },
        "outputId": "4197ec01-4ef9-46c7-9397-d3a15b2c924a"
      },
      "source": [
        "'world' not in spam"
      ],
      "execution_count": null,
      "outputs": [
        {
          "output_type": "execute_result",
          "data": {
            "text/plain": [
              "True"
            ]
          },
          "metadata": {
            "tags": []
          },
          "execution_count": 20
        }
      ]
    },
    {
      "cell_type": "markdown",
      "metadata": {
        "id": "OwP-7_FjyDVU"
      },
      "source": [
        "\n",
        "* string methods\n"
      ]
    },
    {
      "cell_type": "code",
      "metadata": {
        "id": "SGhsTSJgyDVX",
        "colab": {
          "base_uri": "https://localhost:8080/",
          "height": 35
        },
        "outputId": "55b1c36f-bff3-42ca-9385-f25586a1c92d"
      },
      "source": [
        "spam.upper()"
      ],
      "execution_count": null,
      "outputs": [
        {
          "output_type": "execute_result",
          "data": {
            "text/plain": [
              "'HELLO WORLD!'"
            ]
          },
          "metadata": {
            "tags": []
          },
          "execution_count": 21
        }
      ]
    },
    {
      "cell_type": "code",
      "metadata": {
        "id": "8i_V_URJyDVa",
        "colab": {
          "base_uri": "https://localhost:8080/",
          "height": 35
        },
        "outputId": "5d04245f-e26c-4295-94c6-4c594f769a55"
      },
      "source": [
        "spam.lower()"
      ],
      "execution_count": null,
      "outputs": [
        {
          "output_type": "execute_result",
          "data": {
            "text/plain": [
              "'hello world!'"
            ]
          },
          "metadata": {
            "tags": []
          },
          "execution_count": 22
        }
      ]
    },
    {
      "cell_type": "code",
      "metadata": {
        "id": "IFl4g-0LyDVf"
      },
      "source": [
        "print('How are you?')\n",
        "feeling = input()\n",
        "if feeling.lower() == 'great':\n",
        "    print('I feel great too.')\n",
        "else:\n",
        "    print('I hope the rest of your day is good.')"
      ],
      "execution_count": null,
      "outputs": []
    },
    {
      "cell_type": "code",
      "metadata": {
        "id": "wo5Hxu2gyDVh",
        "colab": {
          "base_uri": "https://localhost:8080/",
          "height": 35
        },
        "outputId": "877a5f22-c0a6-46ed-c83e-2fe0057d06de"
      },
      "source": [
        "spam.islower()"
      ],
      "execution_count": null,
      "outputs": [
        {
          "output_type": "execute_result",
          "data": {
            "text/plain": [
              "False"
            ]
          },
          "metadata": {
            "tags": []
          },
          "execution_count": 25
        }
      ]
    },
    {
      "cell_type": "code",
      "metadata": {
        "id": "e4WfnOQyyDVn",
        "colab": {
          "base_uri": "https://localhost:8080/",
          "height": 35
        },
        "outputId": "81aa1646-ca43-450c-91fc-020db509e5f6"
      },
      "source": [
        "spam.isupper()"
      ],
      "execution_count": null,
      "outputs": [
        {
          "output_type": "execute_result",
          "data": {
            "text/plain": [
              "False"
            ]
          },
          "metadata": {
            "tags": []
          },
          "execution_count": 26
        }
      ]
    },
    {
      "cell_type": "code",
      "metadata": {
        "id": "0KF7BH1RyDVr",
        "colab": {
          "base_uri": "https://localhost:8080/",
          "height": 35
        },
        "outputId": "985b3402-187b-40ae-e70d-9d0bc3bb40a8"
      },
      "source": [
        "'HELLO'.isupper()"
      ],
      "execution_count": null,
      "outputs": [
        {
          "output_type": "execute_result",
          "data": {
            "text/plain": [
              "True"
            ]
          },
          "metadata": {
            "tags": []
          },
          "execution_count": 27
        }
      ]
    },
    {
      "cell_type": "code",
      "metadata": {
        "id": "B5mIUfkiyDVt",
        "colab": {
          "base_uri": "https://localhost:8080/",
          "height": 35
        },
        "outputId": "ed684b19-8d5e-41b1-87c0-254c6aee0c73"
      },
      "source": [
        "'12345'.islower()"
      ],
      "execution_count": null,
      "outputs": [
        {
          "output_type": "execute_result",
          "data": {
            "text/plain": [
              "False"
            ]
          },
          "metadata": {
            "tags": []
          },
          "execution_count": 28
        }
      ]
    },
    {
      "cell_type": "code",
      "metadata": {
        "id": "ynJyhGWlyDVw",
        "colab": {
          "base_uri": "https://localhost:8080/",
          "height": 35
        },
        "outputId": "cc77146b-b28b-4b89-b95f-5d05286730a0"
      },
      "source": [
        "'12345'.isupper()"
      ],
      "execution_count": null,
      "outputs": [
        {
          "output_type": "execute_result",
          "data": {
            "text/plain": [
              "False"
            ]
          },
          "metadata": {
            "tags": []
          },
          "execution_count": 29
        }
      ]
    },
    {
      "cell_type": "code",
      "metadata": {
        "id": "Zcnc3lnSyDV0",
        "colab": {
          "base_uri": "https://localhost:8080/",
          "height": 35
        },
        "outputId": "b31de1aa-77d7-43ab-c2ae-7b9ae7f8565d"
      },
      "source": [
        "'abc12345'.islower()"
      ],
      "execution_count": null,
      "outputs": [
        {
          "output_type": "execute_result",
          "data": {
            "text/plain": [
              "True"
            ]
          },
          "metadata": {
            "tags": []
          },
          "execution_count": 30
        }
      ]
    },
    {
      "cell_type": "markdown",
      "metadata": {
        "id": "QGnQnvJ6yDV2"
      },
      "source": [
        "\n",
        "* isX string methods\n"
      ]
    },
    {
      "cell_type": "code",
      "metadata": {
        "id": "6PrN1XX5yDV2",
        "colab": {
          "base_uri": "https://localhost:8080/",
          "height": 35
        },
        "outputId": "13ae700a-18c4-4f4a-fccc-77e60c2b89d0"
      },
      "source": [
        "'hello'.isalpha()"
      ],
      "execution_count": null,
      "outputs": [
        {
          "output_type": "execute_result",
          "data": {
            "text/plain": [
              "True"
            ]
          },
          "metadata": {
            "tags": []
          },
          "execution_count": 31
        }
      ]
    },
    {
      "cell_type": "code",
      "metadata": {
        "id": "NKdTLX5lyDV4",
        "colab": {
          "base_uri": "https://localhost:8080/",
          "height": 35
        },
        "outputId": "63d266e8-33dd-4ef6-8f90-edea1ba72ae1"
      },
      "source": [
        "'hello123'.isalpha()"
      ],
      "execution_count": null,
      "outputs": [
        {
          "output_type": "execute_result",
          "data": {
            "text/plain": [
              "False"
            ]
          },
          "metadata": {
            "tags": []
          },
          "execution_count": 32
        }
      ]
    },
    {
      "cell_type": "code",
      "metadata": {
        "id": "hzUCXj2YyDV6",
        "colab": {
          "base_uri": "https://localhost:8080/",
          "height": 35
        },
        "outputId": "b373f765-45b4-44da-bfa4-7466ed02bba0"
      },
      "source": [
        "'hello123'.isalnum()"
      ],
      "execution_count": null,
      "outputs": [
        {
          "output_type": "execute_result",
          "data": {
            "text/plain": [
              "True"
            ]
          },
          "metadata": {
            "tags": []
          },
          "execution_count": 33
        }
      ]
    },
    {
      "cell_type": "code",
      "metadata": {
        "id": "ODC8G_HFyDV-",
        "colab": {
          "base_uri": "https://localhost:8080/",
          "height": 35
        },
        "outputId": "9741f372-f61e-4266-fd92-dae15b88fd49"
      },
      "source": [
        "'123'.isdecimal()"
      ],
      "execution_count": null,
      "outputs": [
        {
          "output_type": "execute_result",
          "data": {
            "text/plain": [
              "True"
            ]
          },
          "metadata": {
            "tags": []
          },
          "execution_count": 34
        }
      ]
    },
    {
      "cell_type": "code",
      "metadata": {
        "id": "iqTAM4K2yDWB",
        "colab": {
          "base_uri": "https://localhost:8080/",
          "height": 35
        },
        "outputId": "f11d46a8-9d10-49a6-aadb-e9f614e99b78"
      },
      "source": [
        "'123.456'.isdecimal()"
      ],
      "execution_count": null,
      "outputs": [
        {
          "output_type": "execute_result",
          "data": {
            "text/plain": [
              "False"
            ]
          },
          "metadata": {
            "tags": []
          },
          "execution_count": 35
        }
      ]
    },
    {
      "cell_type": "code",
      "metadata": {
        "id": "-g6n1NfOyDWE",
        "colab": {
          "base_uri": "https://localhost:8080/",
          "height": 35
        },
        "outputId": "816ed899-f616-48a4-b9d3-d1473be8ed8b"
      },
      "source": [
        "'   '.isspace()"
      ],
      "execution_count": null,
      "outputs": [
        {
          "output_type": "execute_result",
          "data": {
            "text/plain": [
              "True"
            ]
          },
          "metadata": {
            "tags": []
          },
          "execution_count": 36
        }
      ]
    },
    {
      "cell_type": "code",
      "metadata": {
        "id": "agZ_QNJPyDWH",
        "colab": {
          "base_uri": "https://localhost:8080/",
          "height": 35
        },
        "outputId": "d1274906-4dd0-40c1-d665-ff8ade31798b"
      },
      "source": [
        "'This Is Title Case'.istitle()"
      ],
      "execution_count": null,
      "outputs": [
        {
          "output_type": "execute_result",
          "data": {
            "text/plain": [
              "True"
            ]
          },
          "metadata": {
            "tags": []
          },
          "execution_count": 37
        }
      ]
    },
    {
      "cell_type": "code",
      "metadata": {
        "id": "6GnKpH6ByDWK"
      },
      "source": [
        "while True:\n",
        "    print('Enter your age:')\n",
        "    age = input()\n",
        "    if age.isdecimal():\n",
        "        break\n",
        "    print('Please enter a number for your age.')"
      ],
      "execution_count": null,
      "outputs": []
    },
    {
      "cell_type": "code",
      "metadata": {
        "id": "m0M6Z6y3yDWL"
      },
      "source": [
        "while True:\n",
        "    print('Select a new password (letters and numbers only):')\n",
        "    password = input()\n",
        "    if password.isalnum():\n",
        "        break\n",
        "    print('Passwords can only have letters and numbers.')"
      ],
      "execution_count": null,
      "outputs": []
    },
    {
      "cell_type": "markdown",
      "metadata": {
        "id": "Jo9r0pieyDWO"
      },
      "source": [
        "\n",
        "* startswith() and endswith()\n"
      ]
    },
    {
      "cell_type": "code",
      "metadata": {
        "id": "i8sJQ_QqyDWP",
        "colab": {
          "base_uri": "https://localhost:8080/",
          "height": 35
        },
        "outputId": "f726f748-688e-43b5-9f34-8f317966acf2"
      },
      "source": [
        "'Hello world!'.startswith('H')"
      ],
      "execution_count": null,
      "outputs": [
        {
          "output_type": "execute_result",
          "data": {
            "text/plain": [
              "True"
            ]
          },
          "metadata": {
            "tags": []
          },
          "execution_count": 39
        }
      ]
    },
    {
      "cell_type": "code",
      "metadata": {
        "id": "tirewIaUyDWR",
        "colab": {
          "base_uri": "https://localhost:8080/",
          "height": 35
        },
        "outputId": "62f1cc70-ff84-451f-9bf8-109b3c96c03b"
      },
      "source": [
        "'Hello world!'.endswith('world!')"
      ],
      "execution_count": null,
      "outputs": [
        {
          "output_type": "execute_result",
          "data": {
            "text/plain": [
              "True"
            ]
          },
          "metadata": {
            "tags": []
          },
          "execution_count": 40
        }
      ]
    },
    {
      "cell_type": "markdown",
      "metadata": {
        "id": "7WKUa6tHyDWU"
      },
      "source": [
        "\n",
        "* join() and split()\n"
      ]
    },
    {
      "cell_type": "code",
      "metadata": {
        "id": "Xh2c_XPuyDWV",
        "colab": {
          "base_uri": "https://localhost:8080/",
          "height": 35
        },
        "outputId": "0557d4ef-730a-4f6e-dc13-a750cd19e7a8"
      },
      "source": [
        "', '.join(['cats', 'rats', 'bats'])"
      ],
      "execution_count": null,
      "outputs": [
        {
          "output_type": "execute_result",
          "data": {
            "text/plain": [
              "'cats, rats, bats'"
            ]
          },
          "metadata": {
            "tags": []
          },
          "execution_count": 41
        }
      ]
    },
    {
      "cell_type": "code",
      "metadata": {
        "id": "9yS1NSxoyDWY",
        "colab": {
          "base_uri": "https://localhost:8080/",
          "height": 35
        },
        "outputId": "73eb4dc0-c094-4013-8546-ec1925b485cd"
      },
      "source": [
        "' '.join(['My', 'name', 'is', 'Simon'])"
      ],
      "execution_count": null,
      "outputs": [
        {
          "output_type": "execute_result",
          "data": {
            "text/plain": [
              "'My name is Simon'"
            ]
          },
          "metadata": {
            "tags": []
          },
          "execution_count": 42
        }
      ]
    },
    {
      "cell_type": "code",
      "metadata": {
        "id": "muFb_z0vyDWb",
        "colab": {
          "base_uri": "https://localhost:8080/",
          "height": 35
        },
        "outputId": "8656c642-f40d-472d-ee08-2466f7b03d29"
      },
      "source": [
        "'ABC'.join(['My', 'name', 'is', 'Simon'])"
      ],
      "execution_count": null,
      "outputs": [
        {
          "output_type": "execute_result",
          "data": {
            "text/plain": [
              "'MyABCnameABCisABCSimon'"
            ]
          },
          "metadata": {
            "tags": []
          },
          "execution_count": 43
        }
      ]
    },
    {
      "cell_type": "code",
      "metadata": {
        "id": "C6uM88SKyDWd",
        "colab": {
          "base_uri": "https://localhost:8080/",
          "height": 35
        },
        "outputId": "9c1585cc-e794-4452-ec10-c369746479d0"
      },
      "source": [
        "'My name is Simon'.split()"
      ],
      "execution_count": null,
      "outputs": [
        {
          "output_type": "execute_result",
          "data": {
            "text/plain": [
              "['My', 'name', 'is', 'Simon']"
            ]
          },
          "metadata": {
            "tags": []
          },
          "execution_count": 44
        }
      ]
    },
    {
      "cell_type": "code",
      "metadata": {
        "id": "kpctj80PyDWf",
        "colab": {
          "base_uri": "https://localhost:8080/",
          "height": 35
        },
        "outputId": "5332a520-bc66-4759-a68e-e01b25b6f676"
      },
      "source": [
        "'MyABCnameABCisABCSimon'.split('ABC')"
      ],
      "execution_count": null,
      "outputs": [
        {
          "output_type": "execute_result",
          "data": {
            "text/plain": [
              "['My', 'name', 'is', 'Simon']"
            ]
          },
          "metadata": {
            "tags": []
          },
          "execution_count": 45
        }
      ]
    },
    {
      "cell_type": "code",
      "metadata": {
        "id": "ZdCtk8gYyDWh",
        "colab": {
          "base_uri": "https://localhost:8080/",
          "height": 35
        },
        "outputId": "2880ea87-02f0-4abb-f93d-22e7d502242c"
      },
      "source": [
        "'My name is Simon'.split('m')"
      ],
      "execution_count": null,
      "outputs": [
        {
          "output_type": "execute_result",
          "data": {
            "text/plain": [
              "['My na', 'e is Si', 'on']"
            ]
          },
          "metadata": {
            "tags": []
          },
          "execution_count": 46
        }
      ]
    },
    {
      "cell_type": "code",
      "metadata": {
        "id": "3CjxyJTlyDWi",
        "colab": {
          "base_uri": "https://localhost:8080/",
          "height": 161
        },
        "outputId": "fd6a195c-9bb5-496d-eb11-e6cfaa7853ba"
      },
      "source": [
        "spam = '''Dear Alice,\n",
        "How have you been? I am fine.\n",
        "There is a container in the fridge\n",
        "that is labeled \"Milk Experiment\".\n",
        "\n",
        "Please do not drink it.\n",
        "Sincerely,\n",
        "Bob'''\n",
        "\n",
        "spam.split('\\n')"
      ],
      "execution_count": null,
      "outputs": [
        {
          "output_type": "execute_result",
          "data": {
            "text/plain": [
              "['Dear Alice,',\n",
              " 'How have you been? I am fine.',\n",
              " 'There is a container in the fridge',\n",
              " 'that is labeled \"Milk Experiment\".',\n",
              " '',\n",
              " 'Please do not drink it.',\n",
              " 'Sincerely,',\n",
              " 'Bob']"
            ]
          },
          "metadata": {
            "tags": []
          },
          "execution_count": 47
        }
      ]
    },
    {
      "cell_type": "markdown",
      "metadata": {
        "id": "WupKywYNyDWl"
      },
      "source": [
        "\n",
        "* rjust(), ljust() and center()\n"
      ]
    },
    {
      "cell_type": "code",
      "metadata": {
        "id": "3hKapJbFyDWl",
        "colab": {
          "base_uri": "https://localhost:8080/",
          "height": 35
        },
        "outputId": "ee7f9f9b-ccc5-414b-f854-3bae90389cac"
      },
      "source": [
        "'Hello'.rjust(10)"
      ],
      "execution_count": null,
      "outputs": [
        {
          "output_type": "execute_result",
          "data": {
            "text/plain": [
              "'     Hello'"
            ]
          },
          "metadata": {
            "tags": []
          },
          "execution_count": 48
        }
      ]
    },
    {
      "cell_type": "code",
      "metadata": {
        "id": "MlrORXKByDWn",
        "colab": {
          "base_uri": "https://localhost:8080/",
          "height": 35
        },
        "outputId": "915d6363-9d95-40f2-940e-58f151de1c20"
      },
      "source": [
        "'Hello'.rjust(20)"
      ],
      "execution_count": null,
      "outputs": [
        {
          "output_type": "execute_result",
          "data": {
            "text/plain": [
              "'               Hello'"
            ]
          },
          "metadata": {
            "tags": []
          },
          "execution_count": 49
        }
      ]
    },
    {
      "cell_type": "code",
      "metadata": {
        "id": "mljjfX9LyDWo",
        "colab": {
          "base_uri": "https://localhost:8080/",
          "height": 35
        },
        "outputId": "84b1557b-2536-4742-9c64-b8e939513d07"
      },
      "source": [
        "'Hello World'.rjust(20)"
      ],
      "execution_count": null,
      "outputs": [
        {
          "output_type": "execute_result",
          "data": {
            "text/plain": [
              "'         Hello World'"
            ]
          },
          "metadata": {
            "tags": []
          },
          "execution_count": 50
        }
      ]
    },
    {
      "cell_type": "code",
      "metadata": {
        "id": "x8rR89ZqyDWq",
        "colab": {
          "base_uri": "https://localhost:8080/",
          "height": 35
        },
        "outputId": "1cac8622-3fcb-4266-e933-55f7eb96a7ee"
      },
      "source": [
        " 'Hello'.ljust(10)"
      ],
      "execution_count": null,
      "outputs": [
        {
          "output_type": "execute_result",
          "data": {
            "text/plain": [
              "'Hello     '"
            ]
          },
          "metadata": {
            "tags": []
          },
          "execution_count": 51
        }
      ]
    },
    {
      "cell_type": "code",
      "metadata": {
        "id": "gd17MVXWyDWt",
        "colab": {
          "base_uri": "https://localhost:8080/",
          "height": 35
        },
        "outputId": "0f83fe10-58d0-4c4e-96bb-adefa6e55add"
      },
      "source": [
        " 'Hello'.rjust(20, '*')"
      ],
      "execution_count": null,
      "outputs": [
        {
          "output_type": "execute_result",
          "data": {
            "text/plain": [
              "'***************Hello'"
            ]
          },
          "metadata": {
            "tags": []
          },
          "execution_count": 52
        }
      ]
    },
    {
      "cell_type": "code",
      "metadata": {
        "id": "4pbyFbkwyDWv"
      },
      "source": [
        "def printPicnic(itemsDict, leftWidth, rightWidth):\n",
        "    print('PICNIC ITEMS'.center(leftWidth + rightWidth, '-'))\n",
        "    for k, v in itemsDict.items():\n",
        "        print(k.ljust(leftWidth, '.') + str(v).rjust(rightWidth))\n",
        "picnicItems = {'sandwiches': 4, 'apples': 12, 'cups': 4, 'cookies': 8000}"
      ],
      "execution_count": null,
      "outputs": []
    },
    {
      "cell_type": "code",
      "metadata": {
        "id": "WhoWwYimyDWw",
        "colab": {
          "base_uri": "https://localhost:8080/",
          "height": 107
        },
        "outputId": "37976d7e-3d64-409b-88f7-8eee1aeceda6"
      },
      "source": [
        "printPicnic(picnicItems, 12, 5)"
      ],
      "execution_count": null,
      "outputs": [
        {
          "output_type": "stream",
          "text": [
            "---PICNIC ITEMS--\n",
            "sandwiches..    4\n",
            "apples......   12\n",
            "cups........    4\n",
            "cookies..... 8000\n"
          ],
          "name": "stdout"
        }
      ]
    },
    {
      "cell_type": "code",
      "metadata": {
        "id": "-0EdFyU4yDWy",
        "colab": {
          "base_uri": "https://localhost:8080/",
          "height": 107
        },
        "outputId": "c43a1bdc-2e44-4f3c-ff79-00221a3b17cf"
      },
      "source": [
        "printPicnic(picnicItems, 20, 6)"
      ],
      "execution_count": null,
      "outputs": [
        {
          "output_type": "stream",
          "text": [
            "-------PICNIC ITEMS-------\n",
            "sandwiches..........     4\n",
            "apples..............    12\n",
            "cups................     4\n",
            "cookies.............  8000\n"
          ],
          "name": "stdout"
        }
      ]
    },
    {
      "cell_type": "markdown",
      "metadata": {
        "id": "eaPGSkm8yDWz"
      },
      "source": [
        "\n",
        "* removing whitespace\n",
        "* strip()\n"
      ]
    },
    {
      "cell_type": "code",
      "metadata": {
        "id": "UwC6TD-RyDWz",
        "colab": {
          "base_uri": "https://localhost:8080/",
          "height": 35
        },
        "outputId": "af885cd7-1f89-41af-e89c-a4c736c78b1f"
      },
      "source": [
        "spam = '    Hello World     '\n",
        "spam.strip()"
      ],
      "execution_count": null,
      "outputs": [
        {
          "output_type": "execute_result",
          "data": {
            "text/plain": [
              "'Hello World'"
            ]
          },
          "metadata": {
            "tags": []
          },
          "execution_count": 56
        }
      ]
    },
    {
      "cell_type": "code",
      "metadata": {
        "id": "cER_QGJsyDW0",
        "colab": {
          "base_uri": "https://localhost:8080/",
          "height": 35
        },
        "outputId": "55f47328-f79c-4c07-dfa6-2bf1843de6a5"
      },
      "source": [
        "spam.lstrip()"
      ],
      "execution_count": null,
      "outputs": [
        {
          "output_type": "execute_result",
          "data": {
            "text/plain": [
              "'Hello World     '"
            ]
          },
          "metadata": {
            "tags": []
          },
          "execution_count": 57
        }
      ]
    },
    {
      "cell_type": "code",
      "metadata": {
        "id": "9XPt862vyDW2",
        "colab": {
          "base_uri": "https://localhost:8080/",
          "height": 35
        },
        "outputId": "4ad7639e-a0fb-4bb8-8109-faf829caa278"
      },
      "source": [
        "spam.rstrip()"
      ],
      "execution_count": null,
      "outputs": [
        {
          "output_type": "execute_result",
          "data": {
            "text/plain": [
              "'    Hello World'"
            ]
          },
          "metadata": {
            "tags": []
          },
          "execution_count": 58
        }
      ]
    },
    {
      "cell_type": "code",
      "metadata": {
        "id": "Sm2TwlW5yDW5",
        "colab": {
          "base_uri": "https://localhost:8080/",
          "height": 35
        },
        "outputId": "82c6f70a-92ef-4b2e-bd7d-c073fb6b4b3f"
      },
      "source": [
        "spam = 'SpamSpamBaconSpamEggsSpamSpam'\n",
        "spam.strip('ampS')"
      ],
      "execution_count": null,
      "outputs": [
        {
          "output_type": "execute_result",
          "data": {
            "text/plain": [
              "'BaconSpamEggs'"
            ]
          },
          "metadata": {
            "tags": []
          },
          "execution_count": 59
        }
      ]
    },
    {
      "cell_type": "markdown",
      "metadata": {
        "id": "YHFBCm3tyDW9"
      },
      "source": [
        "\n",
        "* find() and replace()\n"
      ]
    },
    {
      "cell_type": "code",
      "metadata": {
        "id": "x3BoOXq7yDW9",
        "colab": {
          "base_uri": "https://localhost:8080/",
          "height": 35
        },
        "outputId": "8a1e1855-56c7-4c47-f0b9-58efd8d7e11d"
      },
      "source": [
        "spam.find('Egg')"
      ],
      "execution_count": null,
      "outputs": [
        {
          "output_type": "execute_result",
          "data": {
            "text/plain": [
              "17"
            ]
          },
          "metadata": {
            "tags": []
          },
          "execution_count": 60
        }
      ]
    },
    {
      "cell_type": "code",
      "metadata": {
        "id": "I9Sa-G-pyDW-",
        "colab": {
          "base_uri": "https://localhost:8080/",
          "height": 35
        },
        "outputId": "bd419410-afd6-45ef-8488-5a35dfe5f901"
      },
      "source": [
        "spam.replace('Spam','Bacon')"
      ],
      "execution_count": null,
      "outputs": [
        {
          "output_type": "execute_result",
          "data": {
            "text/plain": [
              "'BaconBaconBaconBaconEggsBaconBacon'"
            ]
          },
          "metadata": {
            "tags": []
          },
          "execution_count": 61
        }
      ]
    },
    {
      "cell_type": "markdown",
      "metadata": {
        "id": "8Fu19L9ryDXA"
      },
      "source": [
        "\n",
        "* len()\n"
      ]
    },
    {
      "cell_type": "code",
      "metadata": {
        "id": "WbWxi5omyDXA",
        "colab": {
          "base_uri": "https://localhost:8080/",
          "height": 35
        },
        "outputId": "13d8a4f3-e723-41cf-a3b0-3c69dacfa6d6"
      },
      "source": [
        "len(spam)"
      ],
      "execution_count": null,
      "outputs": [
        {
          "output_type": "execute_result",
          "data": {
            "text/plain": [
              "29"
            ]
          },
          "metadata": {
            "tags": []
          },
          "execution_count": 62
        }
      ]
    }
  ]
}