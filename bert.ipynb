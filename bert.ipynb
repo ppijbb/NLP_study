{
  "nbformat": 4,
  "nbformat_minor": 0,
  "metadata": {
    "colab": {
      "name": "bert.ipynb",
      "provenance": [],
      "mount_file_id": "18tXF_kEtaS2qyv2L7_TOeznef2pbv2jw",
      "authorship_tag": "ABX9TyOWU54wdnugI4sk4L8AUA7E",
      "include_colab_link": true
    },
    "kernelspec": {
      "name": "python3",
      "display_name": "Python 3"
    },
    "widgets": {
      "application/vnd.jupyter.widget-state+json": {
        "f6963d22a26c4eac80465e7b1f025974": {
          "model_module": "@jupyter-widgets/controls",
          "model_name": "HBoxModel",
          "state": {
            "_view_name": "HBoxView",
            "_dom_classes": [],
            "_model_name": "HBoxModel",
            "_view_module": "@jupyter-widgets/controls",
            "_model_module_version": "1.5.0",
            "_view_count": null,
            "_view_module_version": "1.5.0",
            "box_style": "",
            "layout": "IPY_MODEL_a1f01ee6d8c045e18444f0032410e6c4",
            "_model_module": "@jupyter-widgets/controls",
            "children": [
              "IPY_MODEL_c9a24bb9fe2047119d3f9a4fb10f654e",
              "IPY_MODEL_4c8a042fb54340d4882330ce6dde4b2e"
            ]
          }
        },
        "a1f01ee6d8c045e18444f0032410e6c4": {
          "model_module": "@jupyter-widgets/base",
          "model_name": "LayoutModel",
          "state": {
            "_view_name": "LayoutView",
            "grid_template_rows": null,
            "right": null,
            "justify_content": null,
            "_view_module": "@jupyter-widgets/base",
            "overflow": null,
            "_model_module_version": "1.2.0",
            "_view_count": null,
            "flex_flow": null,
            "width": null,
            "min_width": null,
            "border": null,
            "align_items": null,
            "bottom": null,
            "_model_module": "@jupyter-widgets/base",
            "top": null,
            "grid_column": null,
            "overflow_y": null,
            "overflow_x": null,
            "grid_auto_flow": null,
            "grid_area": null,
            "grid_template_columns": null,
            "flex": null,
            "_model_name": "LayoutModel",
            "justify_items": null,
            "grid_row": null,
            "max_height": null,
            "align_content": null,
            "visibility": null,
            "align_self": null,
            "height": null,
            "min_height": null,
            "padding": null,
            "grid_auto_rows": null,
            "grid_gap": null,
            "max_width": null,
            "order": null,
            "_view_module_version": "1.2.0",
            "grid_template_areas": null,
            "object_position": null,
            "object_fit": null,
            "grid_auto_columns": null,
            "margin": null,
            "display": null,
            "left": null
          }
        },
        "c9a24bb9fe2047119d3f9a4fb10f654e": {
          "model_module": "@jupyter-widgets/controls",
          "model_name": "FloatProgressModel",
          "state": {
            "_view_name": "ProgressView",
            "style": "IPY_MODEL_308d62a128ad4594b97cda16d569ff00",
            "_dom_classes": [],
            "description": "Loading:  28%",
            "_model_name": "FloatProgressModel",
            "bar_style": "danger",
            "max": 3724301,
            "_view_module": "@jupyter-widgets/controls",
            "_model_module_version": "1.5.0",
            "value": 1039716,
            "_view_count": null,
            "_view_module_version": "1.5.0",
            "orientation": "horizontal",
            "min": 0,
            "description_tooltip": null,
            "_model_module": "@jupyter-widgets/controls",
            "layout": "IPY_MODEL_0446d728714244f8a9780fe6885a0b1e"
          }
        },
        "4c8a042fb54340d4882330ce6dde4b2e": {
          "model_module": "@jupyter-widgets/controls",
          "model_name": "HTMLModel",
          "state": {
            "_view_name": "HTMLView",
            "style": "IPY_MODEL_7b8fb91d4d944814a8665338b66231e8",
            "_dom_classes": [],
            "description": "",
            "_model_name": "HTMLModel",
            "placeholder": "​",
            "_view_module": "@jupyter-widgets/controls",
            "_model_module_version": "1.5.0",
            "value": " 1039716/3724301 [02:15&lt;05:50, 7664.57it/s]",
            "_view_count": null,
            "_view_module_version": "1.5.0",
            "description_tooltip": null,
            "_model_module": "@jupyter-widgets/controls",
            "layout": "IPY_MODEL_527eda2565204d0dae4ca69819149041"
          }
        },
        "308d62a128ad4594b97cda16d569ff00": {
          "model_module": "@jupyter-widgets/controls",
          "model_name": "ProgressStyleModel",
          "state": {
            "_view_name": "StyleView",
            "_model_name": "ProgressStyleModel",
            "description_width": "initial",
            "_view_module": "@jupyter-widgets/base",
            "_model_module_version": "1.5.0",
            "_view_count": null,
            "_view_module_version": "1.2.0",
            "bar_color": null,
            "_model_module": "@jupyter-widgets/controls"
          }
        },
        "0446d728714244f8a9780fe6885a0b1e": {
          "model_module": "@jupyter-widgets/base",
          "model_name": "LayoutModel",
          "state": {
            "_view_name": "LayoutView",
            "grid_template_rows": null,
            "right": null,
            "justify_content": null,
            "_view_module": "@jupyter-widgets/base",
            "overflow": null,
            "_model_module_version": "1.2.0",
            "_view_count": null,
            "flex_flow": null,
            "width": null,
            "min_width": null,
            "border": null,
            "align_items": null,
            "bottom": null,
            "_model_module": "@jupyter-widgets/base",
            "top": null,
            "grid_column": null,
            "overflow_y": null,
            "overflow_x": null,
            "grid_auto_flow": null,
            "grid_area": null,
            "grid_template_columns": null,
            "flex": null,
            "_model_name": "LayoutModel",
            "justify_items": null,
            "grid_row": null,
            "max_height": null,
            "align_content": null,
            "visibility": null,
            "align_self": null,
            "height": null,
            "min_height": null,
            "padding": null,
            "grid_auto_rows": null,
            "grid_gap": null,
            "max_width": null,
            "order": null,
            "_view_module_version": "1.2.0",
            "grid_template_areas": null,
            "object_position": null,
            "object_fit": null,
            "grid_auto_columns": null,
            "margin": null,
            "display": null,
            "left": null
          }
        },
        "7b8fb91d4d944814a8665338b66231e8": {
          "model_module": "@jupyter-widgets/controls",
          "model_name": "DescriptionStyleModel",
          "state": {
            "_view_name": "StyleView",
            "_model_name": "DescriptionStyleModel",
            "description_width": "",
            "_view_module": "@jupyter-widgets/base",
            "_model_module_version": "1.5.0",
            "_view_count": null,
            "_view_module_version": "1.2.0",
            "_model_module": "@jupyter-widgets/controls"
          }
        },
        "527eda2565204d0dae4ca69819149041": {
          "model_module": "@jupyter-widgets/base",
          "model_name": "LayoutModel",
          "state": {
            "_view_name": "LayoutView",
            "grid_template_rows": null,
            "right": null,
            "justify_content": null,
            "_view_module": "@jupyter-widgets/base",
            "overflow": null,
            "_model_module_version": "1.2.0",
            "_view_count": null,
            "flex_flow": null,
            "width": null,
            "min_width": null,
            "border": null,
            "align_items": null,
            "bottom": null,
            "_model_module": "@jupyter-widgets/base",
            "top": null,
            "grid_column": null,
            "overflow_y": null,
            "overflow_x": null,
            "grid_auto_flow": null,
            "grid_area": null,
            "grid_template_columns": null,
            "flex": null,
            "_model_name": "LayoutModel",
            "justify_items": null,
            "grid_row": null,
            "max_height": null,
            "align_content": null,
            "visibility": null,
            "align_self": null,
            "height": null,
            "min_height": null,
            "padding": null,
            "grid_auto_rows": null,
            "grid_gap": null,
            "max_width": null,
            "order": null,
            "_view_module_version": "1.2.0",
            "grid_template_areas": null,
            "object_position": null,
            "object_fit": null,
            "grid_auto_columns": null,
            "margin": null,
            "display": null,
            "left": null
          }
        }
      }
    }
  },
  "cells": [
    {
      "cell_type": "markdown",
      "metadata": {
        "id": "view-in-github",
        "colab_type": "text"
      },
      "source": [
        "<a href=\"https://colab.research.google.com/github/ppijbb/NLP_study/blob/main/bert.ipynb\" target=\"_parent\"><img src=\"https://colab.research.google.com/assets/colab-badge.svg\" alt=\"Open In Colab\"/></a>"
      ]
    },
    {
      "cell_type": "code",
      "metadata": {
        "colab": {
          "base_uri": "https://localhost:8080/"
        },
        "id": "TxdwEB0QeIKn",
        "outputId": "f0cd06e8-3684-4089-8a4d-9b3b21144d79"
      },
      "source": [
        "!pip install sentencepiece\r\n",
        "!pip install wget"
      ],
      "execution_count": 1,
      "outputs": [
        {
          "output_type": "stream",
          "text": [
            "Collecting sentencepiece\n",
            "\u001b[?25l  Downloading https://files.pythonhosted.org/packages/14/67/e42bd1181472c95c8cda79305df848264f2a7f62740995a46945d9797b67/sentencepiece-0.1.95-cp36-cp36m-manylinux2014_x86_64.whl (1.2MB)\n",
            "\u001b[K     |████████████████████████████████| 1.2MB 4.3MB/s \n",
            "\u001b[?25hInstalling collected packages: sentencepiece\n",
            "Successfully installed sentencepiece-0.1.95\n",
            "Collecting wget\n",
            "  Downloading https://files.pythonhosted.org/packages/47/6a/62e288da7bcda82b935ff0c6cfe542970f04e29c756b0e147251b2fb251f/wget-3.2.zip\n",
            "Building wheels for collected packages: wget\n",
            "  Building wheel for wget (setup.py) ... \u001b[?25l\u001b[?25hdone\n",
            "  Created wheel for wget: filename=wget-3.2-cp36-none-any.whl size=9682 sha256=9c6bcbad4de1ed3338fbfd356bcc91ad4264dd8e9d90021a30e5610667e732e0\n",
            "  Stored in directory: /root/.cache/pip/wheels/40/15/30/7d8f7cea2902b4db79e3fea550d7d7b85ecb27ef992b618f3f\n",
            "Successfully built wget\n",
            "Installing collected packages: wget\n",
            "Successfully installed wget-3.2\n"
          ],
          "name": "stdout"
        }
      ]
    },
    {
      "cell_type": "code",
      "metadata": {
        "colab": {
          "base_uri": "https://localhost:8080/"
        },
        "id": "5rKyRIgJeN7g",
        "outputId": "74cc3357-9282-404f-9c43-7384bdf89ff1"
      },
      "source": [
        "from google.colab import drive\r\n",
        "drive.mount('/content/drive')\r\n",
        "data_dir = \"/content/drive/My Drive/Colab_Notebooks/data/transformer-evolution\""
      ],
      "execution_count": 2,
      "outputs": [
        {
          "output_type": "stream",
          "text": [
            "Drive already mounted at /content/drive; to attempt to forcibly remount, call drive.mount(\"/content/drive\", force_remount=True).\n"
          ],
          "name": "stdout"
        }
      ]
    },
    {
      "cell_type": "code",
      "metadata": {
        "id": "arGquipReTbf"
      },
      "source": [
        "import os\r\n",
        "import numpy as np\r\n",
        "import math\r\n",
        "from random import random, randrange, randint, shuffle, choice\r\n",
        "import matplotlib.pyplot as plt\r\n",
        "import json\r\n",
        "import pandas as pd\r\n",
        "from IPython.display import display\r\n",
        "from tqdm import tqdm, tqdm_notebook, trange\r\n",
        "import sentencepiece as spm\r\n",
        "import wget\r\n",
        "\r\n",
        "import torch\r\n",
        "import torch.nn as nn\r\n",
        "import torch.nn.functional as F"
      ],
      "execution_count": 3,
      "outputs": []
    },
    {
      "cell_type": "code",
      "metadata": {
        "colab": {
          "base_uri": "https://localhost:8080/"
        },
        "id": "joUUnASVei4w",
        "outputId": "8697cff0-b06f-4987-8be0-59d75a6d8ceb"
      },
      "source": [
        "vocab_file = f\"{data_dir}/kowiki.model\"\r\n",
        "vocab = spm.SentencePieceProcessor()\r\n",
        "vocab.load(vocab_file)"
      ],
      "execution_count": 4,
      "outputs": [
        {
          "output_type": "execute_result",
          "data": {
            "text/plain": [
              "True"
            ]
          },
          "metadata": {
            "tags": []
          },
          "execution_count": 4
        }
      ]
    },
    {
      "cell_type": "code",
      "metadata": {
        "id": "3MZvoqNeeklv"
      },
      "source": [
        "class Config(dict): \r\n",
        "    __getattr__ = dict.__getitem__\r\n",
        "    __setattr__ = dict.__setitem__\r\n",
        "\r\n",
        "    @classmethod\r\n",
        "    def load(cls, file):\r\n",
        "        with open(file, 'r') as f:\r\n",
        "            config = json.loads(f.read())\r\n",
        "            return Config(config)"
      ],
      "execution_count": 5,
      "outputs": []
    },
    {
      "cell_type": "code",
      "metadata": {
        "colab": {
          "base_uri": "https://localhost:8080/"
        },
        "id": "KDkXl0Uwembg",
        "outputId": "1786dad3-1191-4845-ba5b-5df48a139d9e"
      },
      "source": [
        "config = Config({\r\n",
        "    \"n_enc_vocab\": len(vocab),\r\n",
        "    \"n_enc_seq\": 256,\r\n",
        "    \"n_seg_type\": 2,\r\n",
        "    \"n_layer\": 6,\r\n",
        "    \"d_hidn\": 256,\r\n",
        "    \"i_pad\": 0,\r\n",
        "    \"d_ff\": 1024,\r\n",
        "    \"n_head\": 4,\r\n",
        "    \"d_head\": 64,\r\n",
        "    \"dropout\": 0.1,\r\n",
        "    \"layer_norm_epsilon\": 1e-12\r\n",
        "})\r\n",
        "print(config)"
      ],
      "execution_count": 6,
      "outputs": [
        {
          "output_type": "stream",
          "text": [
            "{'n_enc_vocab': 8007, 'n_enc_seq': 256, 'n_seg_type': 2, 'n_layer': 6, 'd_hidn': 256, 'i_pad': 0, 'd_ff': 1024, 'n_head': 4, 'd_head': 64, 'dropout': 0.1, 'layer_norm_epsilon': 1e-12}\n"
          ],
          "name": "stdout"
        }
      ]
    },
    {
      "cell_type": "code",
      "metadata": {
        "id": "92B4iT58eotH"
      },
      "source": [
        "def get_sinusoid_encoding_table(n_seq, d_hidn):\r\n",
        "    def cal_angle(position, i_hidn):\r\n",
        "        return position / np.power(10000, 2 * (i_hidn // 2) / d_hidn)\r\n",
        "    def get_posi_angle_vec(position):\r\n",
        "        return [cal_angle(position, i_hidn) for i_hidn in range(d_hidn)]\r\n",
        "\r\n",
        "    sinusoid_table = np.array([get_posi_angle_vec(i_seq) for i_seq in range(n_seq)])\r\n",
        "    sinusoid_table[:, 0::2] = np.sin(sinusoid_table[:, 0::2]) \r\n",
        "    sinusoid_table[:, 1::2] = np.cos(sinusoid_table[:, 1::2]) \r\n",
        "\r\n",
        "    return sinusoid_table\r\n",
        "\r\n",
        "\r\n",
        "# attention pad mask\r\n",
        "def get_attn_pad_mask(seq_q, seq_k, i_pad):\r\n",
        "    batch_size, len_q = seq_q.size()\r\n",
        "    batch_size, len_k = seq_k.size()\r\n",
        "    pad_attn_mask = seq_k.data.eq(i_pad).unsqueeze(1).expand(batch_size, len_q, len_k)\r\n",
        "    return pad_attn_mask\r\n",
        "\r\n",
        "\r\n",
        "# attention decoder mask\r\n",
        "def get_attn_decoder_mask(seq):\r\n",
        "    subsequent_mask = torch.ones_like(seq).unsqueeze(-1).expand(seq.size(0), seq.size(1), seq.size(1))\r\n",
        "    subsequent_mask = subsequent_mask.triu(diagonal=1) \r\n",
        "    return subsequent_mask\r\n",
        "\r\n",
        "\r\n",
        "# scale dot product attention \r\n",
        "class ScaledDotProductAttention(nn.Module):\r\n",
        "    def __init__(self, config):\r\n",
        "        super().__init__()\r\n",
        "        self.config = config\r\n",
        "        self.dropout = nn.Dropout(config.dropout)\r\n",
        "        self.scale = 1 / (self.config.d_head ** 0.5)\r\n",
        "    \r\n",
        "    def forward(self, Q, K, V, attn_mask):\r\n",
        "        scores = torch.matmul(Q, K.transpose(-1, -2)).mul_(self.scale)\r\n",
        "        scores.masked_fill_(attn_mask, -1e9)\r\n",
        "        attn_prob = nn.Softmax(dim=-1)(scores)\r\n",
        "        attn_prob = self.dropout(attn_prob)\r\n",
        "        context = torch.matmul(attn_prob, V)\r\n",
        "        return context, attn_prob\r\n",
        "\r\n",
        "\r\n",
        "# multi head attention\r\n",
        "class MultiHeadAttention(nn.Module):\r\n",
        "    def __init__(self, config):\r\n",
        "        super().__init__()\r\n",
        "        self.config = config\r\n",
        "\r\n",
        "        self.W_Q = nn.Linear(self.config.d_hidn, self.config.n_head * self.config.d_head)\r\n",
        "        self.W_K = nn.Linear(self.config.d_hidn, self.config.n_head * self.config.d_head)\r\n",
        "        self.W_V = nn.Linear(self.config.d_hidn, self.config.n_head * self.config.d_head)\r\n",
        "        self.scaled_dot_attn = ScaledDotProductAttention(self.config)\r\n",
        "        self.linear = nn.Linear(self.config.n_head * self.config.d_head, self.config.d_hidn)\r\n",
        "        self.dropout = nn.Dropout(config.dropout)\r\n",
        "    \r\n",
        "    def forward(self, Q, K, V, attn_mask):\r\n",
        "        batch_size = Q.size(0)\r\n",
        "        q_s = self.W_Q(Q).view(batch_size, -1, self.config.n_head, self.config.d_head).transpose(1,2)\r\n",
        "        k_s = self.W_K(K).view(batch_size, -1, self.config.n_head, self.config.d_head).transpose(1,2)\r\n",
        "        v_s = self.W_V(V).view(batch_size, -1, self.config.n_head, self.config.d_head).transpose(1,2)\r\n",
        "\r\n",
        "        attn_mask = attn_mask.unsqueeze(1).repeat(1, self.config.n_head, 1, 1)\r\n",
        "        context, attn_prob = self.scaled_dot_attn(q_s, k_s, v_s, attn_mask)\r\n",
        "        context = context.transpose(1, 2).contiguous().view(batch_size, -1, self.config.n_head * self.config.d_head)\r\n",
        "        output = self.linear(context)\r\n",
        "        output = self.dropout(output)\r\n",
        "        return output, attn_prob\r\n",
        "\r\n",
        "\r\n",
        "# feed forward\r\n",
        "class PoswiseFeedForwardNet(nn.Module):\r\n",
        "    def __init__(self, config):\r\n",
        "        super().__init__()\r\n",
        "        self.config = config\r\n",
        "\r\n",
        "        self.conv1 = nn.Conv1d(in_channels=self.config.d_hidn, out_channels=self.config.d_ff, kernel_size=1)\r\n",
        "        self.conv2 = nn.Conv1d(in_channels=self.config.d_ff, out_channels=self.config.d_hidn, kernel_size=1)\r\n",
        "        self.active = F.gelu\r\n",
        "        self.dropout = nn.Dropout(config.dropout)\r\n",
        "\r\n",
        "    def forward(self, inputs):\r\n",
        "        output = self.active(self.conv1(inputs.transpose(1, 2)))\r\n",
        "        output = self.conv2(output).transpose(1, 2)\r\n",
        "        output = self.dropout(output)\r\n",
        "        return output"
      ],
      "execution_count": 7,
      "outputs": []
    },
    {
      "cell_type": "code",
      "metadata": {
        "id": "MFtL12bBersH"
      },
      "source": [
        "class EncoderLayer(nn.Module):\r\n",
        "    def __init__(self, config):\r\n",
        "        super().__init__()\r\n",
        "        self.config = config\r\n",
        "\r\n",
        "        self.self_attn = MultiHeadAttention(self.config)\r\n",
        "        self.layer_norm1 = nn.LayerNorm(self.config.d_hidn, eps=self.config.layer_norm_epsilon)\r\n",
        "        self.pos_ffn = PoswiseFeedForwardNet(self.config)\r\n",
        "        self.layer_norm2 = nn.LayerNorm(self.config.d_hidn, eps=self.config.layer_norm_epsilon)\r\n",
        "    \r\n",
        "    def forward(self, inputs, attn_mask):\r\n",
        "        att_outputs, attn_prob = self.self_attn(inputs, inputs, inputs, attn_mask)\r\n",
        "        att_outputs = self.layer_norm1(inputs + att_outputs)\r\n",
        "        ffn_outputs = self.pos_ffn(att_outputs)\r\n",
        "        ffn_outputs = self.layer_norm2(ffn_outputs + att_outputs)\r\n",
        "        return ffn_outputs, attn_prob"
      ],
      "execution_count": 8,
      "outputs": []
    },
    {
      "cell_type": "code",
      "metadata": {
        "id": "U5QhGQPGetwX"
      },
      "source": [
        "class Encoder(nn.Module):\r\n",
        "    def __init__(self, config):\r\n",
        "        super().__init__()\r\n",
        "        self.config = config\r\n",
        "\r\n",
        "        self.enc_emb = nn.Embedding(self.config.n_enc_vocab, self.config.d_hidn)\r\n",
        "        self.pos_emb = nn.Embedding(self.config.n_enc_seq + 1, self.config.d_hidn)\r\n",
        "        self.seg_emb = nn.Embedding(self.config.n_seg_type, self.config.d_hidn)\r\n",
        "\r\n",
        "        self.layers = nn.ModuleList([EncoderLayer(self.config) for _ in range(self.config.n_layer)])\r\n",
        "    \r\n",
        "    def forward(self, inputs, segments):\r\n",
        "        positions = torch.arange(inputs.size(1), device=inputs.device, dtype=inputs.dtype).expand(inputs.size(0), inputs.size(1)).contiguous() + 1\r\n",
        "        pos_mask = inputs.eq(self.config.i_pad)\r\n",
        "        positions.masked_fill_(pos_mask, 0)\r\n",
        "\r\n",
        "        outputs = self.enc_emb(inputs) + self.pos_emb(positions)  + self.seg_emb(segments)\r\n",
        "        attn_mask = get_attn_pad_mask(inputs, inputs, self.config.i_pad)\r\n",
        "\r\n",
        "        attn_probs = []\r\n",
        "        for layer in self.layers:\r\n",
        "            outputs, attn_prob = layer(outputs, attn_mask)\r\n",
        "            attn_probs.append(attn_prob)\r\n",
        "        return outputs, attn_probs"
      ],
      "execution_count": 9,
      "outputs": []
    },
    {
      "cell_type": "code",
      "metadata": {
        "id": "sEQfRpBdevG3"
      },
      "source": [
        "class BERT(nn.Module):\r\n",
        "    def __init__(self, config):\r\n",
        "        super().__init__()\r\n",
        "        self.config = config\r\n",
        "\r\n",
        "        self.encoder = Encoder(self.config)\r\n",
        "\r\n",
        "        self.linear = nn.Linear(config.d_hidn, config.d_hidn)\r\n",
        "        self.activation = torch.tanh\r\n",
        "    \r\n",
        "    def forward(self, inputs, segments):\r\n",
        "        outputs, self_attn_probs = self.encoder(inputs, segments)\r\n",
        "        outputs_cls = outputs[:, 0].contiguous()\r\n",
        "        outputs_cls = self.linear(outputs_cls)\r\n",
        "        outputs_cls = self.activation(outputs_cls)\r\n",
        "        return outputs, outputs_cls, self_attn_probs\r\n",
        "    \r\n",
        "    def save(self, epoch, loss, path):\r\n",
        "        torch.save({\r\n",
        "            \"epoch\": epoch,\r\n",
        "            \"loss\": loss,\r\n",
        "            \"state_dict\": self.state_dict()\r\n",
        "        }, path)\r\n",
        "    \r\n",
        "    def load(self, path):\r\n",
        "        save = torch.load(path)\r\n",
        "        self.load_state_dict(save[\"state_dict\"])\r\n",
        "        return save[\"epoch\"], save[\"loss\"]"
      ],
      "execution_count": 10,
      "outputs": []
    },
    {
      "cell_type": "code",
      "metadata": {
        "id": "GZ3oxfcsexVX"
      },
      "source": [
        "class BERTPretrain(nn.Module):\r\n",
        "    def __init__(self, config):\r\n",
        "        super().__init__()\r\n",
        "        self.config = config\r\n",
        "\r\n",
        "        self.bert = BERT(self.config)\r\n",
        "        self.projection_cls = nn.Linear(self.config.d_hidn, 2, bias=False)\r\n",
        "        self.projection_lm = nn.Linear(self.config.d_hidn, self.config.n_enc_vocab, bias=False)\r\n",
        "        self.projection_lm.weight = self.bert.encoder.enc_emb.weight\r\n",
        "    \r\n",
        "    def forward(self, inputs, segments):\r\n",
        "        outputs, outputs_cls, attn_probs = self.bert(inputs, segments)\r\n",
        "        logits_cls = self.projection_cls(outputs_cls)\r\n",
        "        logits_lm = self.projection_lm(outputs)\r\n",
        "        return logits_cls, logits_lm, attn_probs"
      ],
      "execution_count": 11,
      "outputs": []
    },
    {
      "cell_type": "code",
      "metadata": {
        "id": "a-kWlRceeyjf"
      },
      "source": [
        "def create_pretrain_mask(tokens, mask_cnt, vocab_list):\r\n",
        "    cand_idx = []\r\n",
        "    for (i, token) in enumerate(tokens):\r\n",
        "        if token == \"[CLS]\" or token == \"[SEP]\":\r\n",
        "            continue\r\n",
        "        if 0 < len(cand_idx) and not token.startswith(u\"\\u2581\"):\r\n",
        "            cand_idx[-1].append(i)\r\n",
        "        else:\r\n",
        "            cand_idx.append([i])\r\n",
        "    shuffle(cand_idx)\r\n",
        "\r\n",
        "    mask_lms = []\r\n",
        "    for index_set in cand_idx:\r\n",
        "        if len(mask_lms) >= mask_cnt:\r\n",
        "            break\r\n",
        "        if len(mask_lms) + len(index_set) > mask_cnt:\r\n",
        "            continue\r\n",
        "        for index in index_set:\r\n",
        "            masked_token = None\r\n",
        "            if random() < 0.8: \r\n",
        "                masked_token = \"[MASK]\"\r\n",
        "            else:\r\n",
        "                if random() < 0.5: \r\n",
        "                    masked_token = tokens[index]\r\n",
        "                else:\r\n",
        "                    masked_token = choice(vocab_list)\r\n",
        "            mask_lms.append({\"index\": index, \"label\": tokens[index]})\r\n",
        "            tokens[index] = masked_token\r\n",
        "    mask_lms = sorted(mask_lms, key=lambda x: x[\"index\"])\r\n",
        "    mask_idx = [p[\"index\"] for p in mask_lms]\r\n",
        "    mask_label = [p[\"label\"] for p in mask_lms]\r\n",
        "\r\n",
        "    return tokens, mask_idx, mask_label"
      ],
      "execution_count": 12,
      "outputs": []
    },
    {
      "cell_type": "code",
      "metadata": {
        "id": "KqQKO9BWe1Qm"
      },
      "source": [
        "def trim_tokens(tokens_a, tokens_b, max_seq):\r\n",
        "    while True:\r\n",
        "        total_length = len(tokens_a) + len(tokens_b)\r\n",
        "        if total_length <= max_seq:\r\n",
        "            break\r\n",
        "\r\n",
        "        if len(tokens_a) > len(tokens_b):\r\n",
        "            del tokens_a[0]\r\n",
        "        else:\r\n",
        "            tokens_b.pop()"
      ],
      "execution_count": 13,
      "outputs": []
    },
    {
      "cell_type": "code",
      "metadata": {
        "id": "K5l4gSP4e3Co"
      },
      "source": [
        "def create_pretrain_instances(docs, doc_idx, doc, n_seq, mask_prob, vocab_list):\r\n",
        "    max_seq = n_seq - 3\r\n",
        "    tgt_seq = max_seq\r\n",
        "    \r\n",
        "    instances = []\r\n",
        "    current_chunk = []\r\n",
        "    current_length = 0\r\n",
        "    for i in range(len(doc)):\r\n",
        "        current_chunk.append(doc[i])\r\n",
        "        current_length += len(doc[i])\r\n",
        "        if i == len(doc) - 1 or current_length >= tgt_seq:\r\n",
        "            if 0 < len(current_chunk):\r\n",
        "                a_end = 1\r\n",
        "                if 1 < len(current_chunk):\r\n",
        "                    a_end = randrange(1, len(current_chunk))\r\n",
        "                tokens_a = []\r\n",
        "                for j in range(a_end):\r\n",
        "                    tokens_a.extend(current_chunk[j])\r\n",
        "                \r\n",
        "                tokens_b = []\r\n",
        "                if len(current_chunk) == 1 or random() < 0.5:\r\n",
        "                    is_next = 0\r\n",
        "                    tokens_b_len = tgt_seq - len(tokens_a)\r\n",
        "                    random_doc_idx = doc_idx\r\n",
        "                    while doc_idx == random_doc_idx:\r\n",
        "                        random_doc_idx = randrange(0, len(docs))\r\n",
        "                    random_doc = docs[random_doc_idx]\r\n",
        "\r\n",
        "                    random_start = randrange(0, len(random_doc))\r\n",
        "                    for j in range(random_start, len(random_doc)):\r\n",
        "                        tokens_b.extend(random_doc[j])\r\n",
        "                else:\r\n",
        "                    is_next = 1\r\n",
        "                    for j in range(a_end, len(current_chunk)):\r\n",
        "                        tokens_b.extend(current_chunk[j])\r\n",
        "\r\n",
        "                trim_tokens(tokens_a, tokens_b, max_seq)\r\n",
        "                assert 0 < len(tokens_a)\r\n",
        "                assert 0 < len(tokens_b)\r\n",
        "\r\n",
        "                tokens = [\"[CLS]\"] + tokens_a + [\"[SEP]\"] + tokens_b + [\"[SEP]\"]\r\n",
        "                segment = [0] * (len(tokens_a) + 2) + [1] * (len(tokens_b) + 1)\r\n",
        "\r\n",
        "                tokens, mask_idx, mask_label = create_pretrain_mask(tokens, int((len(tokens) - 3) * mask_prob), vocab_list)\r\n",
        "\r\n",
        "                instance = {\r\n",
        "                    \"tokens\": tokens,\r\n",
        "                    \"segment\": segment,\r\n",
        "                    \"is_next\": is_next,\r\n",
        "                    \"mask_idx\": mask_idx,\r\n",
        "                    \"mask_label\": mask_label\r\n",
        "                }\r\n",
        "                instances.append(instance)\r\n",
        "\r\n",
        "            current_chunk = []\r\n",
        "            current_length = 0\r\n",
        "    return instances"
      ],
      "execution_count": 14,
      "outputs": []
    },
    {
      "cell_type": "code",
      "metadata": {
        "id": "5gRfipxye49I"
      },
      "source": [
        "def make_pretrain_data(vocab, in_file, out_file, count, n_seq, mask_prob):\r\n",
        "    vocab_list = []\r\n",
        "    for id in range(vocab.get_piece_size()):\r\n",
        "        if not vocab.is_unknown(id):\r\n",
        "            vocab_list.append(vocab.id_to_piece(id))\r\n",
        "\r\n",
        "    line_cnt = 0\r\n",
        "    with open(in_file, \"r\") as in_f:\r\n",
        "        for line in in_f:\r\n",
        "            line_cnt += 1\r\n",
        "    \r\n",
        "    docs = []\r\n",
        "    with open(in_file, \"r\") as f:\r\n",
        "        doc = []\r\n",
        "        with tqdm_notebook(total=line_cnt, desc=f\"Loading\") as pbar:\r\n",
        "            for i, line in enumerate(f):\r\n",
        "                line = line.strip()\r\n",
        "                if line == \"\":\r\n",
        "                    if 0 < len(doc):\r\n",
        "                        docs.append(doc)\r\n",
        "                        doc = []\r\n",
        "                        if 100000 < len(docs): break\r\n",
        "                else:\r\n",
        "                    pieces = vocab.encode_as_pieces(line)\r\n",
        "                    if 0 < len(pieces):\r\n",
        "                        doc.append(pieces)\r\n",
        "                pbar.update(1)\r\n",
        "        if doc:\r\n",
        "            docs.append(doc)\r\n",
        "\r\n",
        "    for index in range(count):\r\n",
        "        output = out_file.format(index)\r\n",
        "        if os.path.isfile(output): continue\r\n",
        "\r\n",
        "        with open(output, \"w\") as out_f:\r\n",
        "            with tqdm_notebook(total=len(docs), desc=f\"Making\") as pbar:\r\n",
        "                for i, doc in enumerate(docs):\r\n",
        "                    instances = create_pretrain_instances(docs, i, doc, n_seq, mask_prob, vocab_list)\r\n",
        "                    for instance in instances:\r\n",
        "                        out_f.write(json.dumps(instance))\r\n",
        "                        out_f.write(\"\\n\")\r\n",
        "                    pbar.update(1)"
      ],
      "execution_count": 15,
      "outputs": []
    },
    {
      "cell_type": "code",
      "metadata": {
        "colab": {
          "base_uri": "https://localhost:8080/",
          "height": 121,
          "referenced_widgets": [
            "f6963d22a26c4eac80465e7b1f025974",
            "a1f01ee6d8c045e18444f0032410e6c4",
            "c9a24bb9fe2047119d3f9a4fb10f654e",
            "4c8a042fb54340d4882330ce6dde4b2e",
            "308d62a128ad4594b97cda16d569ff00",
            "0446d728714244f8a9780fe6885a0b1e",
            "7b8fb91d4d944814a8665338b66231e8",
            "527eda2565204d0dae4ca69819149041"
          ]
        },
        "id": "iNeS6tSXe7BI",
        "outputId": "0f91b60d-30dc-4216-e53b-aaaef8f324c1"
      },
      "source": [
        "in_file = f\"{data_dir}/kowiki.txt\"\r\n",
        "out_file = f\"{data_dir}/kowiki_bert\" + \"_{}.json\"\r\n",
        "count = 1\r\n",
        "n_seq = 256\r\n",
        "mask_prob = 0.15\r\n",
        "make_pretrain_data(vocab, in_file, out_file, count, n_seq, mask_prob)"
      ],
      "execution_count": 16,
      "outputs": [
        {
          "output_type": "stream",
          "text": [
            "/usr/local/lib/python3.6/dist-packages/ipykernel_launcher.py:15: TqdmDeprecationWarning: This function will be removed in tqdm==5.0.0\n",
            "Please use `tqdm.notebook.tqdm` instead of `tqdm.tqdm_notebook`\n",
            "  from ipykernel import kernelapp as app\n"
          ],
          "name": "stderr"
        },
        {
          "output_type": "display_data",
          "data": {
            "application/vnd.jupyter.widget-view+json": {
              "model_id": "f6963d22a26c4eac80465e7b1f025974",
              "version_minor": 0,
              "version_major": 2
            },
            "text/plain": [
              "HBox(children=(FloatProgress(value=0.0, description='Loading', max=3724301.0, style=ProgressStyle(description_…"
            ]
          },
          "metadata": {
            "tags": []
          }
        },
        {
          "output_type": "stream",
          "text": [
            "\n"
          ],
          "name": "stdout"
        }
      ]
    },
    {
      "cell_type": "code",
      "metadata": {
        "id": "PuNdMwJ-e8mn"
      },
      "source": [
        "class PretrainDataSet(torch.utils.data.Dataset):\r\n",
        "    def __init__(self, vocab, infile):\r\n",
        "        self.vocab = vocab\r\n",
        "        self.labels_cls = []\r\n",
        "        self.labels_lm = []\r\n",
        "        self.sentences = []\r\n",
        "        self.segments = []\r\n",
        "\r\n",
        "        line_cnt = 0\r\n",
        "        with open(infile, \"r\") as f:\r\n",
        "            for line in f:\r\n",
        "                line_cnt += 1\r\n",
        "\r\n",
        "        with open(infile, \"r\") as f:\r\n",
        "            for i, line in enumerate(tqdm(f, total=line_cnt, desc=f\"Loading {infile}\", unit=\" lines\")):\r\n",
        "                instance = json.loads(line)\r\n",
        "                self.labels_cls.append(instance[\"is_next\"])\r\n",
        "                sentences = [vocab.piece_to_id(p) for p in instance[\"tokens\"]]\r\n",
        "                self.sentences.append(sentences)\r\n",
        "                self.segments.append(instance[\"segment\"])\r\n",
        "                mask_idx = np.array(instance[\"mask_idx\"], dtype=np.int)\r\n",
        "                mask_label = np.array([vocab.piece_to_id(p) for p in instance[\"mask_label\"]], dtype=np.int)\r\n",
        "                label_lm = np.full(len(sentences), dtype=np.int, fill_value=-1)\r\n",
        "                label_lm[mask_idx] = mask_label\r\n",
        "                self.labels_lm.append(label_lm)\r\n",
        "    \r\n",
        "    def __len__(self):\r\n",
        "        assert len(self.labels_cls) == len(self.labels_lm)\r\n",
        "        assert len(self.labels_cls) == len(self.sentences)\r\n",
        "        assert len(self.labels_cls) == len(self.segments)\r\n",
        "        return len(self.labels_cls)\r\n",
        "    \r\n",
        "    def __getitem__(self, item):\r\n",
        "        return (torch.tensor(self.labels_cls[item]),\r\n",
        "                torch.tensor(self.labels_lm[item]),\r\n",
        "                torch.tensor(self.sentences[item]),\r\n",
        "                torch.tensor(self.segments[item]))"
      ],
      "execution_count": 17,
      "outputs": []
    },
    {
      "cell_type": "code",
      "metadata": {
        "id": "TaqUG5HZGUgd"
      },
      "source": [
        "def pretrin_collate_fn(inputs):\r\n",
        "    labels_cls, labels_lm, inputs, segments = list(zip(*inputs))\r\n",
        "\r\n",
        "    labels_lm = torch.nn.utils.rnn.pad_sequence(labels_lm, batch_first=True, padding_value=-1)\r\n",
        "    inputs = torch.nn.utils.rnn.pad_sequence(inputs, batch_first=True, padding_value=0)\r\n",
        "    segments = torch.nn.utils.rnn.pad_sequence(segments, batch_first=True, padding_value=0)\r\n",
        "\r\n",
        "    batch = [\r\n",
        "        torch.stack(labels_cls, dim=0),\r\n",
        "        labels_lm,\r\n",
        "        inputs,\r\n",
        "        segments\r\n",
        "    ]\r\n",
        "    return batch"
      ],
      "execution_count": 18,
      "outputs": []
    },
    {
      "cell_type": "code",
      "metadata": {
        "colab": {
          "base_uri": "https://localhost:8080/"
        },
        "id": "oXfTguFiGXBa",
        "outputId": "8247f088-481f-49ab-f6a8-70d69eab8adb"
      },
      "source": [
        "batch_size = 128\r\n",
        "dataset = PretrainDataSet(vocab, f\"{data_dir}/kowiki_bert_0.json\")\r\n",
        "train_loader = torch.utils.data.DataLoader(dataset, batch_size=batch_size, shuffle=True, collate_fn=pretrin_collate_fn)"
      ],
      "execution_count": 19,
      "outputs": [
        {
          "output_type": "stream",
          "text": [
            "Loading /content/drive/My Drive/Colab_Notebooks/data/transformer-evolution/kowiki_bert_0.json: 100%|██████████| 239857/239857 [01:29<00:00, 2677.88 lines/s]\n"
          ],
          "name": "stderr"
        }
      ]
    },
    {
      "cell_type": "code",
      "metadata": {
        "id": "p4uy-jSYGY-y"
      },
      "source": [
        "def train_epoch(config, epoch, model, criterion_lm, criterion_cls, optimizer, train_loader):\r\n",
        "    losses = []\r\n",
        "    model.train()\r\n",
        "\r\n",
        "    with tqdm(total=len(train_loader), desc=f\"Train({epoch})\") as pbar:\r\n",
        "        for i, value in enumerate(train_loader):\r\n",
        "            labels_cls, labels_lm, inputs, segments = map(lambda v: v.to(config.device), value)\r\n",
        "\r\n",
        "            optimizer.zero_grad()\r\n",
        "            outputs = model(inputs, segments)\r\n",
        "            logits_cls, logits_lm = outputs[0], outputs[1]\r\n",
        "\r\n",
        "            loss_cls = criterion_cls(logits_cls, labels_cls)\r\n",
        "            loss_lm = criterion_lm(logits_lm.view(-1, logits_lm.size(2)), labels_lm.view(-1))\r\n",
        "            loss = loss_cls + loss_lm\r\n",
        "\r\n",
        "            loss_val = loss_lm.item()\r\n",
        "            losses.append(loss_val)\r\n",
        "\r\n",
        "            loss.backward()\r\n",
        "            optimizer.step()\r\n",
        "\r\n",
        "            pbar.update(1)\r\n",
        "            pbar.set_postfix_str(f\"Loss: {loss_val:.3f} ({np.mean(losses):.3f})\")\r\n",
        "    return np.mean(losses)"
      ],
      "execution_count": 20,
      "outputs": []
    },
    {
      "cell_type": "code",
      "metadata": {
        "colab": {
          "base_uri": "https://localhost:8080/"
        },
        "id": "tfD0Dl_nGaxS",
        "outputId": "caede1ea-34a3-4139-b6f1-0d7b42ce9251"
      },
      "source": [
        "config.device = torch.device(\"cuda\" if torch.cuda.is_available() else \"cpu\")\r\n",
        "print(config)\r\n",
        "\r\n",
        "learning_rate = 5e-5\r\n",
        "n_epoch = 20"
      ],
      "execution_count": 21,
      "outputs": [
        {
          "output_type": "stream",
          "text": [
            "{'n_enc_vocab': 8007, 'n_enc_seq': 256, 'n_seg_type': 2, 'n_layer': 6, 'd_hidn': 256, 'i_pad': 0, 'd_ff': 1024, 'n_head': 4, 'd_head': 64, 'dropout': 0.1, 'layer_norm_epsilon': 1e-12, 'device': device(type='cpu')}\n"
          ],
          "name": "stdout"
        }
      ]
    },
    {
      "cell_type": "code",
      "metadata": {
        "colab": {
          "base_uri": "https://localhost:8080/",
          "height": 394
        },
        "id": "C0LUvoWBGcTC",
        "outputId": "cfc7ff11-9e43-43b6-87cb-5ce60069c927"
      },
      "source": [
        "model = BERTPretrain(config)\r\n",
        "\r\n",
        "save_pretrain = f\"{data_dir}/save_bert_pretrain.pth\"\r\n",
        "best_epoch, best_loss = 0, 0\r\n",
        "if os.path.isfile(save_pretrain):\r\n",
        "    best_epoch, best_loss = model.bert.load(save_pretrain)\r\n",
        "    print(f\"load pretrain from: {save_pretrain}, epoch={best_epoch}, loss={best_loss}\")\r\n",
        "    best_epoch += 1\r\n",
        "\r\n",
        "model.to(config.device)\r\n",
        "\r\n",
        "criterion_lm = torch.nn.CrossEntropyLoss(ignore_index=-1, reduction='mean')\r\n",
        "criterion_cls = torch.nn.CrossEntropyLoss()\r\n",
        "optimizer = torch.optim.Adam(model.parameters(), lr=learning_rate)\r\n",
        "\r\n",
        "losses = []\r\n",
        "offset = best_epoch\r\n",
        "for step in range(n_epoch):\r\n",
        "    epoch = step + offset\r\n",
        "    if 0 < step:\r\n",
        "        del train_loader\r\n",
        "        dataset = PretrainDataSet(vocab, f\"{data_dir}/kowiki_bert_{epoch % count}.json\")\r\n",
        "        train_loader = torch.utils.data.DataLoader(dataset, batch_size=batch_size, shuffle=True, collate_fn=pretrin_collate_fn)\r\n",
        "\r\n",
        "    loss = train_epoch(config, epoch, model, criterion_lm, criterion_cls, optimizer, train_loader)\r\n",
        "    losses.append(loss)\r\n",
        "    model.bert.save(epoch, loss, save_pretrain)"
      ],
      "execution_count": 23,
      "outputs": [
        {
          "output_type": "error",
          "ename": "RuntimeError",
          "evalue": "ignored",
          "traceback": [
            "\u001b[0;31m---------------------------------------------------------------------------\u001b[0m",
            "\u001b[0;31mRuntimeError\u001b[0m                              Traceback (most recent call last)",
            "\u001b[0;32m<ipython-input-23-2e99f0c9c76a>\u001b[0m in \u001b[0;36m<module>\u001b[0;34m()\u001b[0m\n\u001b[1;32m      4\u001b[0m \u001b[0mbest_epoch\u001b[0m\u001b[0;34m,\u001b[0m \u001b[0mbest_loss\u001b[0m \u001b[0;34m=\u001b[0m \u001b[0;36m0\u001b[0m\u001b[0;34m,\u001b[0m \u001b[0;36m0\u001b[0m\u001b[0;34m\u001b[0m\u001b[0;34m\u001b[0m\u001b[0m\n\u001b[1;32m      5\u001b[0m \u001b[0;32mif\u001b[0m \u001b[0mos\u001b[0m\u001b[0;34m.\u001b[0m\u001b[0mpath\u001b[0m\u001b[0;34m.\u001b[0m\u001b[0misfile\u001b[0m\u001b[0;34m(\u001b[0m\u001b[0msave_pretrain\u001b[0m\u001b[0;34m)\u001b[0m\u001b[0;34m:\u001b[0m\u001b[0;34m\u001b[0m\u001b[0;34m\u001b[0m\u001b[0m\n\u001b[0;32m----> 6\u001b[0;31m     \u001b[0mbest_epoch\u001b[0m\u001b[0;34m,\u001b[0m \u001b[0mbest_loss\u001b[0m \u001b[0;34m=\u001b[0m \u001b[0mmodel\u001b[0m\u001b[0;34m.\u001b[0m\u001b[0mbert\u001b[0m\u001b[0;34m.\u001b[0m\u001b[0mload\u001b[0m\u001b[0;34m(\u001b[0m\u001b[0msave_pretrain\u001b[0m\u001b[0;34m)\u001b[0m\u001b[0;34m\u001b[0m\u001b[0;34m\u001b[0m\u001b[0m\n\u001b[0m\u001b[1;32m      7\u001b[0m     \u001b[0mprint\u001b[0m\u001b[0;34m(\u001b[0m\u001b[0;34mf\"load pretrain from: {save_pretrain}, epoch={best_epoch}, loss={best_loss}\"\u001b[0m\u001b[0;34m)\u001b[0m\u001b[0;34m\u001b[0m\u001b[0;34m\u001b[0m\u001b[0m\n\u001b[1;32m      8\u001b[0m     \u001b[0mbest_epoch\u001b[0m \u001b[0;34m+=\u001b[0m \u001b[0;36m1\u001b[0m\u001b[0;34m\u001b[0m\u001b[0;34m\u001b[0m\u001b[0m\n",
            "\u001b[0;32m<ipython-input-10-299b8bbf3686>\u001b[0m in \u001b[0;36mload\u001b[0;34m(self, path)\u001b[0m\n\u001b[1;32m     24\u001b[0m \u001b[0;34m\u001b[0m\u001b[0m\n\u001b[1;32m     25\u001b[0m     \u001b[0;32mdef\u001b[0m \u001b[0mload\u001b[0m\u001b[0;34m(\u001b[0m\u001b[0mself\u001b[0m\u001b[0;34m,\u001b[0m \u001b[0mpath\u001b[0m\u001b[0;34m)\u001b[0m\u001b[0;34m:\u001b[0m\u001b[0;34m\u001b[0m\u001b[0;34m\u001b[0m\u001b[0m\n\u001b[0;32m---> 26\u001b[0;31m         \u001b[0msave\u001b[0m \u001b[0;34m=\u001b[0m \u001b[0mtorch\u001b[0m\u001b[0;34m.\u001b[0m\u001b[0mload\u001b[0m\u001b[0;34m(\u001b[0m\u001b[0mpath\u001b[0m\u001b[0;34m)\u001b[0m\u001b[0;34m\u001b[0m\u001b[0;34m\u001b[0m\u001b[0m\n\u001b[0m\u001b[1;32m     27\u001b[0m         \u001b[0mself\u001b[0m\u001b[0;34m.\u001b[0m\u001b[0mload_state_dict\u001b[0m\u001b[0;34m(\u001b[0m\u001b[0msave\u001b[0m\u001b[0;34m[\u001b[0m\u001b[0;34m\"state_dict\"\u001b[0m\u001b[0;34m]\u001b[0m\u001b[0;34m)\u001b[0m\u001b[0;34m\u001b[0m\u001b[0;34m\u001b[0m\u001b[0m\n\u001b[1;32m     28\u001b[0m         \u001b[0;32mreturn\u001b[0m \u001b[0msave\u001b[0m\u001b[0;34m[\u001b[0m\u001b[0;34m\"epoch\"\u001b[0m\u001b[0;34m]\u001b[0m\u001b[0;34m,\u001b[0m \u001b[0msave\u001b[0m\u001b[0;34m[\u001b[0m\u001b[0;34m\"loss\"\u001b[0m\u001b[0;34m]\u001b[0m\u001b[0;34m\u001b[0m\u001b[0;34m\u001b[0m\u001b[0m\n",
            "\u001b[0;32m/usr/local/lib/python3.6/dist-packages/torch/serialization.py\u001b[0m in \u001b[0;36mload\u001b[0;34m(f, map_location, pickle_module, **pickle_load_args)\u001b[0m\n\u001b[1;32m    593\u001b[0m                     \u001b[0;32mreturn\u001b[0m \u001b[0mtorch\u001b[0m\u001b[0;34m.\u001b[0m\u001b[0mjit\u001b[0m\u001b[0;34m.\u001b[0m\u001b[0mload\u001b[0m\u001b[0;34m(\u001b[0m\u001b[0mopened_file\u001b[0m\u001b[0;34m)\u001b[0m\u001b[0;34m\u001b[0m\u001b[0;34m\u001b[0m\u001b[0m\n\u001b[1;32m    594\u001b[0m                 \u001b[0;32mreturn\u001b[0m \u001b[0m_load\u001b[0m\u001b[0;34m(\u001b[0m\u001b[0mopened_zipfile\u001b[0m\u001b[0;34m,\u001b[0m \u001b[0mmap_location\u001b[0m\u001b[0;34m,\u001b[0m \u001b[0mpickle_module\u001b[0m\u001b[0;34m,\u001b[0m \u001b[0;34m**\u001b[0m\u001b[0mpickle_load_args\u001b[0m\u001b[0;34m)\u001b[0m\u001b[0;34m\u001b[0m\u001b[0;34m\u001b[0m\u001b[0m\n\u001b[0;32m--> 595\u001b[0;31m         \u001b[0;32mreturn\u001b[0m \u001b[0m_legacy_load\u001b[0m\u001b[0;34m(\u001b[0m\u001b[0mopened_file\u001b[0m\u001b[0;34m,\u001b[0m \u001b[0mmap_location\u001b[0m\u001b[0;34m,\u001b[0m \u001b[0mpickle_module\u001b[0m\u001b[0;34m,\u001b[0m \u001b[0;34m**\u001b[0m\u001b[0mpickle_load_args\u001b[0m\u001b[0;34m)\u001b[0m\u001b[0;34m\u001b[0m\u001b[0;34m\u001b[0m\u001b[0m\n\u001b[0m\u001b[1;32m    596\u001b[0m \u001b[0;34m\u001b[0m\u001b[0m\n\u001b[1;32m    597\u001b[0m \u001b[0;34m\u001b[0m\u001b[0m\n",
            "\u001b[0;32m/usr/local/lib/python3.6/dist-packages/torch/serialization.py\u001b[0m in \u001b[0;36m_legacy_load\u001b[0;34m(f, map_location, pickle_module, **pickle_load_args)\u001b[0m\n\u001b[1;32m    772\u001b[0m     \u001b[0munpickler\u001b[0m \u001b[0;34m=\u001b[0m \u001b[0mpickle_module\u001b[0m\u001b[0;34m.\u001b[0m\u001b[0mUnpickler\u001b[0m\u001b[0;34m(\u001b[0m\u001b[0mf\u001b[0m\u001b[0;34m,\u001b[0m \u001b[0;34m**\u001b[0m\u001b[0mpickle_load_args\u001b[0m\u001b[0;34m)\u001b[0m\u001b[0;34m\u001b[0m\u001b[0;34m\u001b[0m\u001b[0m\n\u001b[1;32m    773\u001b[0m     \u001b[0munpickler\u001b[0m\u001b[0;34m.\u001b[0m\u001b[0mpersistent_load\u001b[0m \u001b[0;34m=\u001b[0m \u001b[0mpersistent_load\u001b[0m\u001b[0;34m\u001b[0m\u001b[0;34m\u001b[0m\u001b[0m\n\u001b[0;32m--> 774\u001b[0;31m     \u001b[0mresult\u001b[0m \u001b[0;34m=\u001b[0m \u001b[0munpickler\u001b[0m\u001b[0;34m.\u001b[0m\u001b[0mload\u001b[0m\u001b[0;34m(\u001b[0m\u001b[0;34m)\u001b[0m\u001b[0;34m\u001b[0m\u001b[0;34m\u001b[0m\u001b[0m\n\u001b[0m\u001b[1;32m    775\u001b[0m \u001b[0;34m\u001b[0m\u001b[0m\n\u001b[1;32m    776\u001b[0m     \u001b[0mdeserialized_storage_keys\u001b[0m \u001b[0;34m=\u001b[0m \u001b[0mpickle_module\u001b[0m\u001b[0;34m.\u001b[0m\u001b[0mload\u001b[0m\u001b[0;34m(\u001b[0m\u001b[0mf\u001b[0m\u001b[0;34m,\u001b[0m \u001b[0;34m**\u001b[0m\u001b[0mpickle_load_args\u001b[0m\u001b[0;34m)\u001b[0m\u001b[0;34m\u001b[0m\u001b[0;34m\u001b[0m\u001b[0m\n",
            "\u001b[0;32m/usr/local/lib/python3.6/dist-packages/torch/serialization.py\u001b[0m in \u001b[0;36mpersistent_load\u001b[0;34m(saved_id)\u001b[0m\n\u001b[1;32m    728\u001b[0m                 \u001b[0mobj\u001b[0m \u001b[0;34m=\u001b[0m \u001b[0mdata_type\u001b[0m\u001b[0;34m(\u001b[0m\u001b[0msize\u001b[0m\u001b[0;34m)\u001b[0m\u001b[0;34m\u001b[0m\u001b[0;34m\u001b[0m\u001b[0m\n\u001b[1;32m    729\u001b[0m                 \u001b[0mobj\u001b[0m\u001b[0;34m.\u001b[0m\u001b[0m_torch_load_uninitialized\u001b[0m \u001b[0;34m=\u001b[0m \u001b[0;32mTrue\u001b[0m\u001b[0;34m\u001b[0m\u001b[0;34m\u001b[0m\u001b[0m\n\u001b[0;32m--> 730\u001b[0;31m                 \u001b[0mdeserialized_objects\u001b[0m\u001b[0;34m[\u001b[0m\u001b[0mroot_key\u001b[0m\u001b[0;34m]\u001b[0m \u001b[0;34m=\u001b[0m \u001b[0mrestore_location\u001b[0m\u001b[0;34m(\u001b[0m\u001b[0mobj\u001b[0m\u001b[0;34m,\u001b[0m \u001b[0mlocation\u001b[0m\u001b[0;34m)\u001b[0m\u001b[0;34m\u001b[0m\u001b[0;34m\u001b[0m\u001b[0m\n\u001b[0m\u001b[1;32m    731\u001b[0m             \u001b[0mstorage\u001b[0m \u001b[0;34m=\u001b[0m \u001b[0mdeserialized_objects\u001b[0m\u001b[0;34m[\u001b[0m\u001b[0mroot_key\u001b[0m\u001b[0;34m]\u001b[0m\u001b[0;34m\u001b[0m\u001b[0;34m\u001b[0m\u001b[0m\n\u001b[1;32m    732\u001b[0m             \u001b[0;32mif\u001b[0m \u001b[0mview_metadata\u001b[0m \u001b[0;32mis\u001b[0m \u001b[0;32mnot\u001b[0m \u001b[0;32mNone\u001b[0m\u001b[0;34m:\u001b[0m\u001b[0;34m\u001b[0m\u001b[0;34m\u001b[0m\u001b[0m\n",
            "\u001b[0;32m/usr/local/lib/python3.6/dist-packages/torch/serialization.py\u001b[0m in \u001b[0;36mdefault_restore_location\u001b[0;34m(storage, location)\u001b[0m\n\u001b[1;32m    173\u001b[0m \u001b[0;32mdef\u001b[0m \u001b[0mdefault_restore_location\u001b[0m\u001b[0;34m(\u001b[0m\u001b[0mstorage\u001b[0m\u001b[0;34m,\u001b[0m \u001b[0mlocation\u001b[0m\u001b[0;34m)\u001b[0m\u001b[0;34m:\u001b[0m\u001b[0;34m\u001b[0m\u001b[0;34m\u001b[0m\u001b[0m\n\u001b[1;32m    174\u001b[0m     \u001b[0;32mfor\u001b[0m \u001b[0m_\u001b[0m\u001b[0;34m,\u001b[0m \u001b[0m_\u001b[0m\u001b[0;34m,\u001b[0m \u001b[0mfn\u001b[0m \u001b[0;32min\u001b[0m \u001b[0m_package_registry\u001b[0m\u001b[0;34m:\u001b[0m\u001b[0;34m\u001b[0m\u001b[0;34m\u001b[0m\u001b[0m\n\u001b[0;32m--> 175\u001b[0;31m         \u001b[0mresult\u001b[0m \u001b[0;34m=\u001b[0m \u001b[0mfn\u001b[0m\u001b[0;34m(\u001b[0m\u001b[0mstorage\u001b[0m\u001b[0;34m,\u001b[0m \u001b[0mlocation\u001b[0m\u001b[0;34m)\u001b[0m\u001b[0;34m\u001b[0m\u001b[0;34m\u001b[0m\u001b[0m\n\u001b[0m\u001b[1;32m    176\u001b[0m         \u001b[0;32mif\u001b[0m \u001b[0mresult\u001b[0m \u001b[0;32mis\u001b[0m \u001b[0;32mnot\u001b[0m \u001b[0;32mNone\u001b[0m\u001b[0;34m:\u001b[0m\u001b[0;34m\u001b[0m\u001b[0;34m\u001b[0m\u001b[0m\n\u001b[1;32m    177\u001b[0m             \u001b[0;32mreturn\u001b[0m \u001b[0mresult\u001b[0m\u001b[0;34m\u001b[0m\u001b[0;34m\u001b[0m\u001b[0m\n",
            "\u001b[0;32m/usr/local/lib/python3.6/dist-packages/torch/serialization.py\u001b[0m in \u001b[0;36m_cuda_deserialize\u001b[0;34m(obj, location)\u001b[0m\n\u001b[1;32m    149\u001b[0m \u001b[0;32mdef\u001b[0m \u001b[0m_cuda_deserialize\u001b[0m\u001b[0;34m(\u001b[0m\u001b[0mobj\u001b[0m\u001b[0;34m,\u001b[0m \u001b[0mlocation\u001b[0m\u001b[0;34m)\u001b[0m\u001b[0;34m:\u001b[0m\u001b[0;34m\u001b[0m\u001b[0;34m\u001b[0m\u001b[0m\n\u001b[1;32m    150\u001b[0m     \u001b[0;32mif\u001b[0m \u001b[0mlocation\u001b[0m\u001b[0;34m.\u001b[0m\u001b[0mstartswith\u001b[0m\u001b[0;34m(\u001b[0m\u001b[0;34m'cuda'\u001b[0m\u001b[0;34m)\u001b[0m\u001b[0;34m:\u001b[0m\u001b[0;34m\u001b[0m\u001b[0;34m\u001b[0m\u001b[0m\n\u001b[0;32m--> 151\u001b[0;31m         \u001b[0mdevice\u001b[0m \u001b[0;34m=\u001b[0m \u001b[0mvalidate_cuda_device\u001b[0m\u001b[0;34m(\u001b[0m\u001b[0mlocation\u001b[0m\u001b[0;34m)\u001b[0m\u001b[0;34m\u001b[0m\u001b[0;34m\u001b[0m\u001b[0m\n\u001b[0m\u001b[1;32m    152\u001b[0m         \u001b[0;32mif\u001b[0m \u001b[0mgetattr\u001b[0m\u001b[0;34m(\u001b[0m\u001b[0mobj\u001b[0m\u001b[0;34m,\u001b[0m \u001b[0;34m\"_torch_load_uninitialized\"\u001b[0m\u001b[0;34m,\u001b[0m \u001b[0;32mFalse\u001b[0m\u001b[0;34m)\u001b[0m\u001b[0;34m:\u001b[0m\u001b[0;34m\u001b[0m\u001b[0;34m\u001b[0m\u001b[0m\n\u001b[1;32m    153\u001b[0m             \u001b[0mstorage_type\u001b[0m \u001b[0;34m=\u001b[0m \u001b[0mgetattr\u001b[0m\u001b[0;34m(\u001b[0m\u001b[0mtorch\u001b[0m\u001b[0;34m.\u001b[0m\u001b[0mcuda\u001b[0m\u001b[0;34m,\u001b[0m \u001b[0mtype\u001b[0m\u001b[0;34m(\u001b[0m\u001b[0mobj\u001b[0m\u001b[0;34m)\u001b[0m\u001b[0;34m.\u001b[0m\u001b[0m__name__\u001b[0m\u001b[0;34m)\u001b[0m\u001b[0;34m\u001b[0m\u001b[0;34m\u001b[0m\u001b[0m\n",
            "\u001b[0;32m/usr/local/lib/python3.6/dist-packages/torch/serialization.py\u001b[0m in \u001b[0;36mvalidate_cuda_device\u001b[0;34m(location)\u001b[0m\n\u001b[1;32m    133\u001b[0m \u001b[0;34m\u001b[0m\u001b[0m\n\u001b[1;32m    134\u001b[0m     \u001b[0;32mif\u001b[0m \u001b[0;32mnot\u001b[0m \u001b[0mtorch\u001b[0m\u001b[0;34m.\u001b[0m\u001b[0mcuda\u001b[0m\u001b[0;34m.\u001b[0m\u001b[0mis_available\u001b[0m\u001b[0;34m(\u001b[0m\u001b[0;34m)\u001b[0m\u001b[0;34m:\u001b[0m\u001b[0;34m\u001b[0m\u001b[0;34m\u001b[0m\u001b[0m\n\u001b[0;32m--> 135\u001b[0;31m         raise RuntimeError('Attempting to deserialize object on a CUDA '\n\u001b[0m\u001b[1;32m    136\u001b[0m                            \u001b[0;34m'device but torch.cuda.is_available() is False. '\u001b[0m\u001b[0;34m\u001b[0m\u001b[0;34m\u001b[0m\u001b[0m\n\u001b[1;32m    137\u001b[0m                            \u001b[0;34m'If you are running on a CPU-only machine, '\u001b[0m\u001b[0;34m\u001b[0m\u001b[0;34m\u001b[0m\u001b[0m\n",
            "\u001b[0;31mRuntimeError\u001b[0m: Attempting to deserialize object on a CUDA device but torch.cuda.is_available() is False. If you are running on a CPU-only machine, please use torch.load with map_location=torch.device('cpu') to map your storages to the CPU."
          ]
        }
      ]
    },
    {
      "cell_type": "code",
      "metadata": {
        "id": "-LDOYbzaGewy",
        "colab": {
          "base_uri": "https://localhost:8080/",
          "height": 244
        },
        "outputId": "c6e2875d-a50b-46e6-d8a3-e4a0ac0153c8"
      },
      "source": [
        "data = {\r\n",
        "    \"loss\": losses\r\n",
        "}\r\n",
        "df = pd.DataFrame(data)\r\n",
        "display(df)\r\n",
        "\r\n",
        "plt.figure(figsize=[12, 4])\r\n",
        "plt.plot(losses, label=\"loss\")\r\n",
        "plt.legend()\r\n",
        "plt.xlabel('Epoch')\r\n",
        "plt.ylabel('Loss')\r\n",
        "plt.show()"
      ],
      "execution_count": 24,
      "outputs": [
        {
          "output_type": "error",
          "ename": "NameError",
          "evalue": "ignored",
          "traceback": [
            "\u001b[0;31m---------------------------------------------------------------------------\u001b[0m",
            "\u001b[0;31mNameError\u001b[0m                                 Traceback (most recent call last)",
            "\u001b[0;32m<ipython-input-24-ecc18e71bd64>\u001b[0m in \u001b[0;36m<module>\u001b[0;34m()\u001b[0m\n\u001b[1;32m      1\u001b[0m data = {\n\u001b[0;32m----> 2\u001b[0;31m     \u001b[0;34m\"loss\"\u001b[0m\u001b[0;34m:\u001b[0m \u001b[0mlosses\u001b[0m\u001b[0;34m\u001b[0m\u001b[0;34m\u001b[0m\u001b[0m\n\u001b[0m\u001b[1;32m      3\u001b[0m }\n\u001b[1;32m      4\u001b[0m \u001b[0mdf\u001b[0m \u001b[0;34m=\u001b[0m \u001b[0mpd\u001b[0m\u001b[0;34m.\u001b[0m\u001b[0mDataFrame\u001b[0m\u001b[0;34m(\u001b[0m\u001b[0mdata\u001b[0m\u001b[0;34m)\u001b[0m\u001b[0;34m\u001b[0m\u001b[0;34m\u001b[0m\u001b[0m\n\u001b[1;32m      5\u001b[0m \u001b[0mdisplay\u001b[0m\u001b[0;34m(\u001b[0m\u001b[0mdf\u001b[0m\u001b[0;34m)\u001b[0m\u001b[0;34m\u001b[0m\u001b[0;34m\u001b[0m\u001b[0m\n",
            "\u001b[0;31mNameError\u001b[0m: name 'losses' is not defined"
          ]
        }
      ]
    },
    {
      "cell_type": "code",
      "metadata": {
        "id": "J6b7yugZGgoa",
        "colab": {
          "base_uri": "https://localhost:8080/"
        },
        "outputId": "841c9c9b-c139-471d-df15-adec170fca05"
      },
      "source": [
        "vocab_file = f\"{data_dir}/kowiki.model\"\r\n",
        "vocab = spm.SentencePieceProcessor()\r\n",
        "vocab.load(vocab_file)"
      ],
      "execution_count": 25,
      "outputs": [
        {
          "output_type": "execute_result",
          "data": {
            "text/plain": [
              "True"
            ]
          },
          "metadata": {
            "tags": []
          },
          "execution_count": 25
        }
      ]
    },
    {
      "cell_type": "code",
      "metadata": {
        "id": "Gg4l79ChGnkK"
      },
      "source": [
        "class Config(dict): \r\n",
        "    __getattr__ = dict.__getitem__\r\n",
        "    __setattr__ = dict.__setitem__\r\n",
        "\r\n",
        "    @classmethod\r\n",
        "    def load(cls, file):\r\n",
        "        with open(file, 'r') as f:\r\n",
        "            config = json.loads(f.read())\r\n",
        "            return Config(config)"
      ],
      "execution_count": 26,
      "outputs": []
    },
    {
      "cell_type": "code",
      "metadata": {
        "id": "W_BoGAjgGpii",
        "colab": {
          "base_uri": "https://localhost:8080/"
        },
        "outputId": "f81e159c-34e3-4bd1-895d-882097a1f911"
      },
      "source": [
        "config = Config({\r\n",
        "    \"n_enc_vocab\": len(vocab),\r\n",
        "    \"n_enc_seq\": 256,\r\n",
        "    \"n_seg_type\": 2,\r\n",
        "    \"n_layer\": 6,\r\n",
        "    \"d_hidn\": 256,\r\n",
        "    \"i_pad\": 0,\r\n",
        "    \"d_ff\": 1024,\r\n",
        "    \"n_head\": 4,\r\n",
        "    \"d_head\": 64,\r\n",
        "    \"dropout\": 0.1,\r\n",
        "    \"layer_norm_epsilon\": 1e-12\r\n",
        "})\r\n",
        "print(config)"
      ],
      "execution_count": 27,
      "outputs": [
        {
          "output_type": "stream",
          "text": [
            "{'n_enc_vocab': 8007, 'n_enc_seq': 256, 'n_seg_type': 2, 'n_layer': 6, 'd_hidn': 256, 'i_pad': 0, 'd_ff': 1024, 'n_head': 4, 'd_head': 64, 'dropout': 0.1, 'layer_norm_epsilon': 1e-12}\n"
          ],
          "name": "stdout"
        }
      ]
    },
    {
      "cell_type": "code",
      "metadata": {
        "id": "Revx6PdrGq97"
      },
      "source": [
        "def get_sinusoid_encoding_table(n_seq, d_hidn):\r\n",
        "    def cal_angle(position, i_hidn):\r\n",
        "        return position / np.power(10000, 2 * (i_hidn // 2) / d_hidn)\r\n",
        "    def get_posi_angle_vec(position):\r\n",
        "        return [cal_angle(position, i_hidn) for i_hidn in range(d_hidn)]\r\n",
        "\r\n",
        "    sinusoid_table = np.array([get_posi_angle_vec(i_seq) for i_seq in range(n_seq)])\r\n",
        "    sinusoid_table[:, 0::2] = np.sin(sinusoid_table[:, 0::2]) \r\n",
        "    sinusoid_table[:, 1::2] = np.cos(sinusoid_table[:, 1::2]) \r\n",
        "\r\n",
        "    return sinusoid_table\r\n",
        "\r\n",
        "# attention pad mask\r\n",
        "def get_attn_pad_mask(seq_q, seq_k, i_pad):\r\n",
        "    batch_size, len_q = seq_q.size()\r\n",
        "    batch_size, len_k = seq_k.size()\r\n",
        "    pad_attn_mask = seq_k.data.eq(i_pad).unsqueeze(1).expand(batch_size, len_q, len_k)\r\n",
        "    return pad_attn_mask\r\n",
        "\r\n",
        "# attention decoder mask\r\n",
        "def get_attn_decoder_mask(seq):\r\n",
        "    subsequent_mask = torch.ones_like(seq).unsqueeze(-1).expand(seq.size(0), seq.size(1), seq.size(1))\r\n",
        "    subsequent_mask = subsequent_mask.triu(diagonal=1)\r\n",
        "    return subsequent_mask\r\n",
        "\r\n",
        "# scale dot product attention\r\n",
        "class ScaledDotProductAttention(nn.Module):\r\n",
        "    def __init__(self, config):\r\n",
        "        super().__init__()\r\n",
        "        self.config = config\r\n",
        "        self.dropout = nn.Dropout(config.dropout)\r\n",
        "        self.scale = 1 / (self.config.d_head ** 0.5)\r\n",
        "    \r\n",
        "    def forward(self, Q, K, V, attn_mask):\r\n",
        "        scores = torch.matmul(Q, K.transpose(-1, -2)).mul_(self.scale)\r\n",
        "        scores.masked_fill_(attn_mask, -1e9)\r\n",
        "        attn_prob = nn.Softmax(dim=-1)(scores)\r\n",
        "        attn_prob = self.dropout(attn_prob)\r\n",
        "        context = torch.matmul(attn_prob, V)\r\n",
        "        return context, attn_prob\r\n",
        "\r\n",
        "# multi head attention\r\n",
        "class MultiHeadAttention(nn.Module):\r\n",
        "    def __init__(self, config):\r\n",
        "        super().__init__()\r\n",
        "        self.config = config\r\n",
        "\r\n",
        "        self.W_Q = nn.Linear(self.config.d_hidn, self.config.n_head * self.config.d_head)\r\n",
        "        self.W_K = nn.Linear(self.config.d_hidn, self.config.n_head * self.config.d_head)\r\n",
        "        self.W_V = nn.Linear(self.config.d_hidn, self.config.n_head * self.config.d_head)\r\n",
        "        self.scaled_dot_attn = ScaledDotProductAttention(self.config)\r\n",
        "        self.linear = nn.Linear(self.config.n_head * self.config.d_head, self.config.d_hidn)\r\n",
        "        self.dropout = nn.Dropout(config.dropout)\r\n",
        "    \r\n",
        "    def forward(self, Q, K, V, attn_mask):\r\n",
        "        batch_size = Q.size(0)\r\n",
        "        q_s = self.W_Q(Q).view(batch_size, -1, self.config.n_head, self.config.d_head).transpose(1,2)\r\n",
        "        k_s = self.W_K(K).view(batch_size, -1, self.config.n_head, self.config.d_head).transpose(1,2)\r\n",
        "        v_s = self.W_V(V).view(batch_size, -1, self.config.n_head, self.config.d_head).transpose(1,2)\r\n",
        "\r\n",
        "        attn_mask = attn_mask.unsqueeze(1).repeat(1, self.config.n_head, 1, 1)\r\n",
        "\r\n",
        "        context, attn_prob = self.scaled_dot_attn(q_s, k_s, v_s, attn_mask)\r\n",
        "        context = context.transpose(1, 2).contiguous().view(batch_size, -1, self.config.n_head * self.config.d_head)\r\n",
        "        output = self.linear(context)\r\n",
        "        output = self.dropout(output)\r\n",
        "        return output, attn_prob\r\n",
        "\r\n",
        "# feed forward\r\n",
        "class PoswiseFeedForwardNet(nn.Module):\r\n",
        "    def __init__(self, config):\r\n",
        "        super().__init__()\r\n",
        "        self.config = config\r\n",
        "\r\n",
        "        self.conv1 = nn.Conv1d(in_channels=self.config.d_hidn, out_channels=self.config.d_ff, kernel_size=1)\r\n",
        "        self.conv2 = nn.Conv1d(in_channels=self.config.d_ff, out_channels=self.config.d_hidn, kernel_size=1)\r\n",
        "        self.active = F.gelu\r\n",
        "        self.dropout = nn.Dropout(config.dropout)\r\n",
        "\r\n",
        "    def forward(self, inputs):\r\n",
        "        output = self.active(self.conv1(inputs.transpose(1, 2)))\r\n",
        "        output = self.conv2(output).transpose(1, 2)\r\n",
        "        output = self.dropout(output)\r\n",
        "        return output"
      ],
      "execution_count": 28,
      "outputs": []
    },
    {
      "cell_type": "code",
      "metadata": {
        "id": "bKokdo7nGuSp"
      },
      "source": [
        "class EncoderLayer(nn.Module):\r\n",
        "    def __init__(self, config):\r\n",
        "        super().__init__()\r\n",
        "        self.config = config\r\n",
        "\r\n",
        "        self.self_attn = MultiHeadAttention(self.config)\r\n",
        "        self.layer_norm1 = nn.LayerNorm(self.config.d_hidn, eps=self.config.layer_norm_epsilon)\r\n",
        "        self.pos_ffn = PoswiseFeedForwardNet(self.config)\r\n",
        "        self.layer_norm2 = nn.LayerNorm(self.config.d_hidn, eps=self.config.layer_norm_epsilon)\r\n",
        "    \r\n",
        "    def forward(self, inputs, attn_mask):\r\n",
        "        att_outputs, attn_prob = self.self_attn(inputs, inputs, inputs, attn_mask)\r\n",
        "        att_outputs = self.layer_norm1(inputs + att_outputs)\r\n",
        "        ffn_outputs = self.pos_ffn(att_outputs)\r\n",
        "        ffn_outputs = self.layer_norm2(ffn_outputs + att_outputs)\r\n",
        "        return ffn_outputs, attn_prob\r\n",
        "\r\n",
        "# encoder\r\n",
        "class Encoder(nn.Module):\r\n",
        "    def __init__(self, config):\r\n",
        "        super().__init__()\r\n",
        "        self.config = config\r\n",
        "\r\n",
        "        self.enc_emb = nn.Embedding(self.config.n_enc_vocab, self.config.d_hidn)\r\n",
        "        self.pos_emb = nn.Embedding(self.config.n_enc_seq + 1, self.config.d_hidn)\r\n",
        "        self.seg_emb = nn.Embedding(self.config.n_seg_type, self.config.d_hidn)\r\n",
        "\r\n",
        "        self.layers = nn.ModuleList([EncoderLayer(self.config) for _ in range(self.config.n_layer)])\r\n",
        "    \r\n",
        "    def forward(self, inputs, segments):\r\n",
        "        positions = torch.arange(inputs.size(1), device=inputs.device, dtype=inputs.dtype).expand(inputs.size(0), inputs.size(1)).contiguous() + 1\r\n",
        "        pos_mask = inputs.eq(self.config.i_pad)\r\n",
        "        positions.masked_fill_(pos_mask, 0)\r\n",
        "        outputs = self.enc_emb(inputs) + self.pos_emb(positions)  + self.seg_emb(segments)\r\n",
        "        attn_mask = get_attn_pad_mask(inputs, inputs, self.config.i_pad)\r\n",
        "\r\n",
        "        attn_probs = []\r\n",
        "        for layer in self.layers:\r\n",
        "            outputs, attn_prob = layer(outputs, attn_mask)\r\n",
        "            attn_probs.append(attn_prob)\r\n",
        "        return outputs, attn_probs\r\n",
        "\r\n",
        "# bert\r\n",
        "class BERT(nn.Module):\r\n",
        "    def __init__(self, config):\r\n",
        "        super().__init__()\r\n",
        "        self.config = config\r\n",
        "        self.encoder = Encoder(self.config)\r\n",
        "        self.linear = nn.Linear(config.d_hidn, config.d_hidn)\r\n",
        "        self.activation = torch.tanh\r\n",
        "    \r\n",
        "    def forward(self, inputs, segments):\r\n",
        "        outputs, self_attn_probs = self.encoder(inputs, segments)\r\n",
        "        outputs_cls = outputs[:, 0].contiguous()\r\n",
        "        outputs_cls = self.linear(outputs_cls)\r\n",
        "        outputs_cls = self.activation(outputs_cls)\r\n",
        "        return outputs, outputs_cls, self_attn_probs\r\n",
        "    \r\n",
        "    def save(self, epoch, loss, path):\r\n",
        "        torch.save({\r\n",
        "            \"epoch\": epoch,\r\n",
        "            \"loss\": loss,\r\n",
        "            \"state_dict\": self.state_dict()\r\n",
        "        }, path)\r\n",
        "    \r\n",
        "    def load(self, path):\r\n",
        "        save = torch.load(path)\r\n",
        "        self.load_state_dict(save[\"state_dict\"])\r\n",
        "        return save[\"epoch\"], save[\"loss\"]"
      ],
      "execution_count": 29,
      "outputs": []
    },
    {
      "cell_type": "code",
      "metadata": {
        "id": "w6QwfYsuGxmy"
      },
      "source": [
        "class MovieClassification(nn.Module):\r\n",
        "    def __init__(self, config):\r\n",
        "        super().__init__()\r\n",
        "        self.config = config\r\n",
        "\r\n",
        "        self.bert = BERT(self.config)\r\n",
        "        self.projection_cls = nn.Linear(self.config.d_hidn, self.config.n_output, bias=False)\r\n",
        "    \r\n",
        "    def forward(self, inputs, segments):\r\n",
        "        outputs, outputs_cls, attn_probs = self.bert(inputs, segments)\r\n",
        "        logits_cls = self.projection_cls(outputs_cls)\r\n",
        "        return logits_cls, attn_probs"
      ],
      "execution_count": 30,
      "outputs": []
    },
    {
      "cell_type": "code",
      "metadata": {
        "id": "ppiT3sxRG0dq"
      },
      "source": [
        "class MovieDataSet(torch.utils.data.Dataset):\r\n",
        "    def __init__(self, vocab, infile):\r\n",
        "        self.vocab = vocab\r\n",
        "        self.labels = []\r\n",
        "        self.sentences = []\r\n",
        "        self.segments = []\r\n",
        "\r\n",
        "        line_cnt = 0\r\n",
        "        with open(infile, \"r\") as f:\r\n",
        "            for line in f:\r\n",
        "                line_cnt += 1\r\n",
        "\r\n",
        "        with open(infile, \"r\") as f:\r\n",
        "            for i, line in enumerate(tqdm(f, total=line_cnt, desc=\"Loading Dataset\", unit=\" lines\")):\r\n",
        "                data = json.loads(line)\r\n",
        "                self.labels.append(data[\"label\"])\r\n",
        "                sentence = [vocab.piece_to_id(\"[CLS]\")] + [vocab.piece_to_id(p) for p in data[\"doc\"]] + [vocab.piece_to_id(\"[SEP]\")]\r\n",
        "                self.sentences.append(sentence)\r\n",
        "                self.segments.append([0] * len(sentence))\r\n",
        "    \r\n",
        "    def __len__(self):\r\n",
        "        assert len(self.labels) == len(self.sentences)\r\n",
        "        assert len(self.labels) == len(self.segments)\r\n",
        "        return len(self.labels)\r\n",
        "    \r\n",
        "    def __getitem__(self, item):\r\n",
        "        return (torch.tensor(self.labels[item]),\r\n",
        "                torch.tensor(self.sentences[item]),\r\n",
        "                torch.tensor(self.segments[item]))"
      ],
      "execution_count": 31,
      "outputs": []
    },
    {
      "cell_type": "code",
      "metadata": {
        "id": "3RfhFr5yG21T"
      },
      "source": [
        "def movie_collate_fn(inputs):\r\n",
        "    labels, inputs, segments = list(zip(*inputs))\r\n",
        "\r\n",
        "    inputs = torch.nn.utils.rnn.pad_sequence(inputs, batch_first=True, padding_value=0)\r\n",
        "    segments = torch.nn.utils.rnn.pad_sequence(segments, batch_first=True, padding_value=0)\r\n",
        "\r\n",
        "    batch = [\r\n",
        "        torch.stack(labels, dim=0),\r\n",
        "        inputs,\r\n",
        "        segments,\r\n",
        "    ]\r\n",
        "    return batch"
      ],
      "execution_count": 32,
      "outputs": []
    },
    {
      "cell_type": "code",
      "metadata": {
        "colab": {
          "base_uri": "https://localhost:8080/"
        },
        "id": "tQGnztkcG4xq",
        "outputId": "85282694-6f47-4095-c480-db06733ef8e8"
      },
      "source": [
        "batch_size = 128\r\n",
        "train_dataset = MovieDataSet(vocab, f\"{data_dir}/ratings_train.json\")\r\n",
        "train_loader = torch.utils.data.DataLoader(train_dataset, batch_size=batch_size, shuffle=True, collate_fn=movie_collate_fn)\r\n",
        "test_dataset = MovieDataSet(vocab, f\"{data_dir}/ratings_test.json\")\r\n",
        "test_loader = torch.utils.data.DataLoader(test_dataset, batch_size=batch_size, shuffle=False, collate_fn=movie_collate_fn)"
      ],
      "execution_count": 33,
      "outputs": [
        {
          "output_type": "stream",
          "text": [
            "Loading Dataset: 100%|██████████| 149995/149995 [00:08<00:00, 17363.54 lines/s]\n",
            "Loading Dataset: 100%|██████████| 49997/49997 [00:01<00:00, 25603.65 lines/s]\n"
          ],
          "name": "stderr"
        }
      ]
    },
    {
      "cell_type": "code",
      "metadata": {
        "id": "AGc5uSaxG6IT"
      },
      "source": [
        "def eval_epoch(config, model, data_loader):\r\n",
        "    matchs = []\r\n",
        "    model.eval()\r\n",
        "\r\n",
        "    n_word_total = 0\r\n",
        "    n_correct_total = 0\r\n",
        "    with tqdm(total=len(data_loader), desc=f\"Valid\") as pbar:\r\n",
        "        for i, value in enumerate(data_loader):\r\n",
        "            labels, inputs, segments = map(lambda v: v.to(config.device), value)\r\n",
        "\r\n",
        "            outputs = model(inputs, segments)\r\n",
        "            logits_cls = outputs[0]\r\n",
        "            _, indices = logits_cls.max(1)\r\n",
        "\r\n",
        "            match = torch.eq(indices, labels).detach()\r\n",
        "            matchs.extend(match.cpu())\r\n",
        "            accuracy = np.sum(matchs) / len(matchs) if 0 < len(matchs) else 0\r\n",
        "\r\n",
        "            pbar.update(1)\r\n",
        "            pbar.set_postfix_str(f\"Acc: {accuracy:.3f}\")\r\n",
        "    return np.sum(matchs) / len(matchs) if 0 < len(matchs) else 0"
      ],
      "execution_count": 34,
      "outputs": []
    },
    {
      "cell_type": "code",
      "metadata": {
        "id": "DI2wKpu2G7wK"
      },
      "source": [
        "def train_epoch(config, epoch, model, criterion_cls, optimizer, train_loader):\r\n",
        "    losses = []\r\n",
        "    model.train()\r\n",
        "\r\n",
        "    with tqdm(total=len(train_loader), desc=f\"Train({epoch})\") as pbar:\r\n",
        "        for i, value in enumerate(train_loader):\r\n",
        "            labels, inputs, segments = map(lambda v: v.to(config.device), value)\r\n",
        "\r\n",
        "            optimizer.zero_grad()\r\n",
        "            outputs = model(inputs, segments)\r\n",
        "            logits_cls = outputs[0]\r\n",
        "\r\n",
        "            loss_cls = criterion_cls(logits_cls, labels)\r\n",
        "            loss = loss_cls\r\n",
        "\r\n",
        "            loss_val = loss_cls.item()\r\n",
        "            losses.append(loss_val)\r\n",
        "\r\n",
        "            loss.backward()\r\n",
        "            optimizer.step()\r\n",
        "\r\n",
        "            pbar.update(1)\r\n",
        "            pbar.set_postfix_str(f\"Loss: {loss_val:.3f} ({np.mean(losses):.3f})\")\r\n",
        "    return np.mean(losses)"
      ],
      "execution_count": 35,
      "outputs": []
    },
    {
      "cell_type": "code",
      "metadata": {
        "colab": {
          "base_uri": "https://localhost:8080/"
        },
        "id": "-gph21wxG9dy",
        "outputId": "64ce1d2f-4177-4dee-e4ba-d7ceb6ec5cb8"
      },
      "source": [
        "config.device = torch.device(\"cuda\" if torch.cuda.is_available() else \"cpu\")\r\n",
        "config.n_output = 2\r\n",
        "print(config)\r\n",
        "\r\n",
        "learning_rate = 5e-5\r\n",
        "n_epoch = 10"
      ],
      "execution_count": 36,
      "outputs": [
        {
          "output_type": "stream",
          "text": [
            "{'n_enc_vocab': 8007, 'n_enc_seq': 256, 'n_seg_type': 2, 'n_layer': 6, 'd_hidn': 256, 'i_pad': 0, 'd_ff': 1024, 'n_head': 4, 'd_head': 64, 'dropout': 0.1, 'layer_norm_epsilon': 1e-12, 'device': device(type='cpu'), 'n_output': 2}\n"
          ],
          "name": "stdout"
        }
      ]
    },
    {
      "cell_type": "code",
      "metadata": {
        "id": "pFzu6NJ6G-7K"
      },
      "source": [
        "def train(model):\r\n",
        "    model.to(config.device)\r\n",
        "\r\n",
        "    criterion_cls = torch.nn.CrossEntropyLoss()\r\n",
        "    optimizer = torch.optim.Adam(model.parameters(), lr=learning_rate)\r\n",
        "\r\n",
        "    best_epoch, best_loss, best_score = 0, 0, 0\r\n",
        "    losses, scores = [], []\r\n",
        "    for epoch in range(n_epoch):\r\n",
        "        loss = train_epoch(config, epoch, model, criterion_cls, optimizer, train_loader)\r\n",
        "        score = eval_epoch(config, model, test_loader)\r\n",
        "\r\n",
        "        losses.append(loss)\r\n",
        "        scores.append(score)\r\n",
        "\r\n",
        "        if best_score < score:\r\n",
        "            best_epoch, best_loss, best_score = epoch, loss, score\r\n",
        "    print(f\">>>> epoch={best_epoch}, loss={best_loss:.5f}, socre={best_score:.5f}\")\r\n",
        "    return losses, scores"
      ],
      "execution_count": 37,
      "outputs": []
    },
    {
      "cell_type": "code",
      "metadata": {
        "colab": {
          "base_uri": "https://localhost:8080/"
        },
        "id": "HnaXu79KHAYi",
        "outputId": "d76edd1f-a72c-438c-b018-20a38b3912eb"
      },
      "source": [
        "model = MovieClassification(config)\r\n",
        "\r\n",
        "losses_00, scores_00 = train(model)"
      ],
      "execution_count": null,
      "outputs": [
        {
          "output_type": "stream",
          "text": [
            "Train(0): 100%|██████████| 1172/1172 [3:08:22<00:00,  9.64s/it, Loss: 0.512 (0.522)]\n",
            "Valid: 100%|██████████| 391/391 [21:07<00:00,  3.24s/it, Acc: 0.766]\n",
            "Train(1): 100%|██████████| 1172/1172 [3:07:50<00:00,  9.62s/it, Loss: 0.375 (0.435)]\n",
            "Valid: 100%|██████████| 391/391 [21:07<00:00,  3.24s/it, Acc: 0.801]\n",
            "Train(2):   9%|▉         | 107/1172 [17:17<2:48:09,  9.47s/it, Loss: 0.414 (0.403)]"
          ],
          "name": "stderr"
        }
      ]
    },
    {
      "cell_type": "code",
      "metadata": {
        "id": "BKO2eE8PHDMy"
      },
      "source": [
        "model = MovieClassification(config)\r\n",
        "\r\n",
        "save_pretrain = f\"{data_dir}/save_bert_pretrain.pth\"\r\n",
        "model.bert.load(save_pretrain)\r\n",
        "\r\n",
        "losses_20, scores_20 = train(model)"
      ],
      "execution_count": null,
      "outputs": []
    },
    {
      "cell_type": "code",
      "metadata": {
        "id": "y1F4TojRHE4a"
      },
      "source": [
        "data = {\r\n",
        "    \"loss_00\": losses_00,\r\n",
        "    \"socre_00\": scores_00,\r\n",
        "    \"loss_20\": losses_20,\r\n",
        "    \"socre_20\": scores_20,\r\n",
        "}\r\n",
        "df = pd.DataFrame(data)\r\n",
        "display(df)\r\n",
        "\r\n",
        "plt.figure(figsize=[12, 4])\r\n",
        "plt.plot(scores_00, label=\"score_00\")\r\n",
        "plt.plot(scores_20, label=\"score_20\")\r\n",
        "plt.legend()\r\n",
        "plt.xlabel('Epoch')\r\n",
        "plt.ylabel('Value')\r\n",
        "plt.show()"
      ],
      "execution_count": null,
      "outputs": []
    }
  ]
}